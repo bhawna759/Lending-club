{
  "nbformat": 4,
  "nbformat_minor": 0,
  "metadata": {
    "kernelspec": {
      "display_name": "Python 3",
      "language": "python",
      "name": "python3"
    },
    "language_info": {
      "codemirror_mode": {
        "name": "ipython",
        "version": 3
      },
      "file_extension": ".py",
      "mimetype": "text/x-python",
      "name": "python",
      "nbconvert_exporter": "python",
      "pygments_lexer": "ipython3",
      "version": "3.7.6"
    },
    "colab": {
      "name": "EDA-Credit risk.ipynb",
      "provenance": [],
      "collapsed_sections": []
    }
  },
  "cells": [
    {
      "cell_type": "markdown",
      "metadata": {
        "id": "6hoX6MeQWqRo"
      },
      "source": [
        "### Problem Statement\n",
        "Introduction\n",
        "Solving this assignment will give you an idea about how real business problems are solved using EDA. In this case study, apart from applying the techniques you have learnt in EDA, you will also develop a basic understanding of risk analytics in banking and financial services and understand how data is used to minimise the risk of losing money while lending to customers.\n",
        "\n",
        "  \n",
        "\n",
        "Business Understanding\n",
        "You work for a consumer finance company which specialises in lending various types of loans to urban customers. When the company receives a loan application, the company has to make a decision for loan approval based on the applicant’s profile. Two types of risks are associated with the bank’s decision:\n",
        "\n",
        "If the applicant is likely to repay the loan, then not approving the loan results in a loss of business to the company\n",
        "\n",
        "If the applicant is not likely to repay the loan, i.e. he/she is likely to default, then approving the loan may lead to a financial loss for the company\n",
        "\n",
        " \n",
        "\n",
        "The data given below contains the information about past loan applicants and whether they ‘defaulted’ or not. The aim is to identify patterns which indicate if a person is likely to default, which may be used for taking actions such as denying the loan, reducing the amount of loan, lending (to risky applicants) at a higher interest rate, etc.\n",
        "\n",
        " \n",
        "\n",
        "In this case study, you will use EDA to understand how consumer attributes and loan attributes influence the tendency of default.\n",
        "\n",
        "Figure 1. Loan Data Set\n",
        "Figure 1. Loan Data Set\n",
        "When a person applies for a loan, there are two types of decisions that could be taken by the company:\n",
        "\n",
        "Loan accepted: If the company approves the loan, there are 3 possible scenarios described below:\n",
        "\n",
        "Fully paid: Applicant has fully paid the loan (the principal and the interest rate)\n",
        "\n",
        "Current: Applicant is in the process of paying the instalments, i.e. the tenure of the loan is not yet completed. These candidates are not labelled as 'defaulted'.\n",
        "\n",
        "Charged-off: Applicant has not paid the instalments in due time for a long period of time, i.e. he/she has defaulted on the loan \n",
        "\n",
        "Loan rejected: The company had rejected the loan (because the candidate does not meet their requirements etc.). Since the loan was rejected, there is no transactional history of those applicants with the company and so this data is not available with the company (and thus in this dataset)\n",
        " \n",
        "\n",
        "Business Objectives\n",
        "This company is the largest online loan marketplace, facilitating personal loans, business loans, and financing of medical procedures. Borrowers can easily access lower interest rate loans through a fast online interface. \n",
        "\n",
        " \n",
        "\n",
        "Like most other lending companies, lending loans to ‘risky’ applicants is the largest source of financial loss (called credit loss). The credit loss is the amount of money lost by the lender when the borrower refuses to pay or runs away with the money owed. In other words, borrowers who default cause the largest amount of loss to the lenders. In this case, the customers labelled as 'charged-off' are the 'defaulters'. \n",
        "\n",
        " \n",
        "\n",
        "If one is able to identify these risky loan applicants, then such loans can be reduced thereby cutting down the amount of credit loss. Identification of such applicants using EDA is the aim of this case study.\n",
        "\n",
        " \n",
        "\n",
        "In other words, the company wants to understand the driving factors (or driver variables) behind loan default, i.e. the variables which are strong indicators of default.  The company can utilise this knowledge for its portfolio and risk assessment. \n",
        "\n",
        "\n",
        "To develop your understanding of the domain, you are advised to independently research a little about risk analytics (understanding the types of variables and their significance should be enough).\n",
        "\n",
        " \n",
        "\n",
        "Data Understanding\n",
        " \n",
        "\n",
        "Download the dataset from below. It contains the complete loan data for all loans issued through the time period 2007 t0 2011."
      ]
    },
    {
      "cell_type": "markdown",
      "metadata": {
        "id": "9IVOLV8-XGLe"
      },
      "source": [
        "#### Results Expected\n",
        "Write all your code in one well-commented Python file; briefly mention the insights and observations from the analysis \n",
        "Present the overall approach of the analysis in a presentation \n",
        "Mention the problem statement and the analysis approach briefly \n",
        "Explain the results of univariate, bivariate analysis etc. in business terms\n",
        "Include visualisations and summarise the most important results in the presentation\n",
        " \n",
        "\n",
        "You need to submit one Ipython notebook which clearly explains the thought process behind your analysis (either in comments of markdown text), code and relevant plots. \n",
        "\n",
        " \n",
        "\n",
        "Important Note: Please make sure to rename your Python notebook \"Group_Facilitator_Name.ipynb\". "
      ]
    },
    {
      "cell_type": "code",
      "metadata": {
        "id": "it_ylZmGjV2_"
      },
      "source": [
        "# Importing libraries\n",
        "import pandas as pd\n",
        "import numpy as np\n",
        "import matplotlib.pyplot as plt\n",
        "import seaborn as sns\n"
      ],
      "execution_count": 1,
      "outputs": []
    },
    {
      "cell_type": "markdown",
      "metadata": {
        "id": "4IEVya6RvP9G"
      },
      "source": [
        "##Task 1: Reading data"
      ]
    },
    {
      "cell_type": "code",
      "metadata": {
        "id": "hWpIdF46jV3D"
      },
      "source": [
        "# Reading Files in jupyter notebook\n",
        "# loan = pd.read_csv(\"loan.csv\", low_memory=False)"
      ],
      "execution_count": 2,
      "outputs": []
    },
    {
      "cell_type": "code",
      "metadata": {
        "colab": {
          "base_uri": "https://localhost:8080/"
        },
        "id": "h9jTdo-7kZPw",
        "outputId": "c0e5a44b-d4f4-460e-845c-b51bfe37d107"
      },
      "source": [
        "# Mounting drive to read data in google colab\n",
        "from google.colab import drive\n",
        "drive.mount('/content/drive')"
      ],
      "execution_count": 3,
      "outputs": [
        {
          "output_type": "stream",
          "name": "stdout",
          "text": [
            "Mounted at /content/drive\n"
          ]
        }
      ]
    },
    {
      "cell_type": "code",
      "metadata": {
        "colab": {
          "base_uri": "https://localhost:8080/"
        },
        "id": "Y1mXHKKlk5p9",
        "outputId": "8e02a09c-bf75-41ab-c6ca-2024ae64ffc7"
      },
      "source": [
        "# Reading data in google colab\n",
        "loan = pd.read_csv(\"/content/drive/MyDrive/loan.csv\")"
      ],
      "execution_count": 4,
      "outputs": [
        {
          "output_type": "stream",
          "name": "stderr",
          "text": [
            "/usr/local/lib/python3.7/dist-packages/IPython/core/interactiveshell.py:2718: DtypeWarning: Columns (47) have mixed types.Specify dtype option on import or set low_memory=False.\n",
            "  interactivity=interactivity, compiler=compiler, result=result)\n"
          ]
        }
      ]
    },
    {
      "cell_type": "code",
      "metadata": {
        "scrolled": true,
        "colab": {
          "base_uri": "https://localhost:8080/",
          "height": 369
        },
        "id": "S_nr_QwOjV3D",
        "outputId": "25169e0b-6805-4540-fb83-ad14cb2a411c"
      },
      "source": [
        "# Reading first few line\n",
        "loan.head(2)"
      ],
      "execution_count": 5,
      "outputs": [
        {
          "output_type": "execute_result",
          "data": {
            "text/html": [
              "<div>\n",
              "<style scoped>\n",
              "    .dataframe tbody tr th:only-of-type {\n",
              "        vertical-align: middle;\n",
              "    }\n",
              "\n",
              "    .dataframe tbody tr th {\n",
              "        vertical-align: top;\n",
              "    }\n",
              "\n",
              "    .dataframe thead th {\n",
              "        text-align: right;\n",
              "    }\n",
              "</style>\n",
              "<table border=\"1\" class=\"dataframe\">\n",
              "  <thead>\n",
              "    <tr style=\"text-align: right;\">\n",
              "      <th></th>\n",
              "      <th>id</th>\n",
              "      <th>member_id</th>\n",
              "      <th>loan_amnt</th>\n",
              "      <th>funded_amnt</th>\n",
              "      <th>funded_amnt_inv</th>\n",
              "      <th>term</th>\n",
              "      <th>int_rate</th>\n",
              "      <th>installment</th>\n",
              "      <th>grade</th>\n",
              "      <th>sub_grade</th>\n",
              "      <th>emp_title</th>\n",
              "      <th>emp_length</th>\n",
              "      <th>home_ownership</th>\n",
              "      <th>annual_inc</th>\n",
              "      <th>verification_status</th>\n",
              "      <th>issue_d</th>\n",
              "      <th>loan_status</th>\n",
              "      <th>pymnt_plan</th>\n",
              "      <th>url</th>\n",
              "      <th>desc</th>\n",
              "      <th>purpose</th>\n",
              "      <th>title</th>\n",
              "      <th>zip_code</th>\n",
              "      <th>addr_state</th>\n",
              "      <th>dti</th>\n",
              "      <th>delinq_2yrs</th>\n",
              "      <th>earliest_cr_line</th>\n",
              "      <th>inq_last_6mths</th>\n",
              "      <th>mths_since_last_delinq</th>\n",
              "      <th>mths_since_last_record</th>\n",
              "      <th>open_acc</th>\n",
              "      <th>pub_rec</th>\n",
              "      <th>revol_bal</th>\n",
              "      <th>revol_util</th>\n",
              "      <th>total_acc</th>\n",
              "      <th>initial_list_status</th>\n",
              "      <th>out_prncp</th>\n",
              "      <th>out_prncp_inv</th>\n",
              "      <th>total_pymnt</th>\n",
              "      <th>total_pymnt_inv</th>\n",
              "      <th>...</th>\n",
              "      <th>inq_fi</th>\n",
              "      <th>total_cu_tl</th>\n",
              "      <th>inq_last_12m</th>\n",
              "      <th>acc_open_past_24mths</th>\n",
              "      <th>avg_cur_bal</th>\n",
              "      <th>bc_open_to_buy</th>\n",
              "      <th>bc_util</th>\n",
              "      <th>chargeoff_within_12_mths</th>\n",
              "      <th>delinq_amnt</th>\n",
              "      <th>mo_sin_old_il_acct</th>\n",
              "      <th>mo_sin_old_rev_tl_op</th>\n",
              "      <th>mo_sin_rcnt_rev_tl_op</th>\n",
              "      <th>mo_sin_rcnt_tl</th>\n",
              "      <th>mort_acc</th>\n",
              "      <th>mths_since_recent_bc</th>\n",
              "      <th>mths_since_recent_bc_dlq</th>\n",
              "      <th>mths_since_recent_inq</th>\n",
              "      <th>mths_since_recent_revol_delinq</th>\n",
              "      <th>num_accts_ever_120_pd</th>\n",
              "      <th>num_actv_bc_tl</th>\n",
              "      <th>num_actv_rev_tl</th>\n",
              "      <th>num_bc_sats</th>\n",
              "      <th>num_bc_tl</th>\n",
              "      <th>num_il_tl</th>\n",
              "      <th>num_op_rev_tl</th>\n",
              "      <th>num_rev_accts</th>\n",
              "      <th>num_rev_tl_bal_gt_0</th>\n",
              "      <th>num_sats</th>\n",
              "      <th>num_tl_120dpd_2m</th>\n",
              "      <th>num_tl_30dpd</th>\n",
              "      <th>num_tl_90g_dpd_24m</th>\n",
              "      <th>num_tl_op_past_12m</th>\n",
              "      <th>pct_tl_nvr_dlq</th>\n",
              "      <th>percent_bc_gt_75</th>\n",
              "      <th>pub_rec_bankruptcies</th>\n",
              "      <th>tax_liens</th>\n",
              "      <th>tot_hi_cred_lim</th>\n",
              "      <th>total_bal_ex_mort</th>\n",
              "      <th>total_bc_limit</th>\n",
              "      <th>total_il_high_credit_limit</th>\n",
              "    </tr>\n",
              "  </thead>\n",
              "  <tbody>\n",
              "    <tr>\n",
              "      <th>0</th>\n",
              "      <td>1077501</td>\n",
              "      <td>1296599</td>\n",
              "      <td>5000</td>\n",
              "      <td>5000</td>\n",
              "      <td>4975.0</td>\n",
              "      <td>36 months</td>\n",
              "      <td>10.65%</td>\n",
              "      <td>162.87</td>\n",
              "      <td>B</td>\n",
              "      <td>B2</td>\n",
              "      <td>NaN</td>\n",
              "      <td>10+ years</td>\n",
              "      <td>RENT</td>\n",
              "      <td>24000.0</td>\n",
              "      <td>Verified</td>\n",
              "      <td>Dec-11</td>\n",
              "      <td>Fully Paid</td>\n",
              "      <td>n</td>\n",
              "      <td>https://lendingclub.com/browse/loanDetail.acti...</td>\n",
              "      <td>Borrower added on 12/22/11 &gt; I need to upgra...</td>\n",
              "      <td>credit_card</td>\n",
              "      <td>Computer</td>\n",
              "      <td>860xx</td>\n",
              "      <td>AZ</td>\n",
              "      <td>27.65</td>\n",
              "      <td>0</td>\n",
              "      <td>Jan-85</td>\n",
              "      <td>1</td>\n",
              "      <td>NaN</td>\n",
              "      <td>NaN</td>\n",
              "      <td>3</td>\n",
              "      <td>0</td>\n",
              "      <td>13648</td>\n",
              "      <td>83.70%</td>\n",
              "      <td>9</td>\n",
              "      <td>f</td>\n",
              "      <td>0.0</td>\n",
              "      <td>0.0</td>\n",
              "      <td>5863.155187</td>\n",
              "      <td>5833.84</td>\n",
              "      <td>...</td>\n",
              "      <td>NaN</td>\n",
              "      <td>NaN</td>\n",
              "      <td>NaN</td>\n",
              "      <td>NaN</td>\n",
              "      <td>NaN</td>\n",
              "      <td>NaN</td>\n",
              "      <td>NaN</td>\n",
              "      <td>0.0</td>\n",
              "      <td>0</td>\n",
              "      <td>NaN</td>\n",
              "      <td>NaN</td>\n",
              "      <td>NaN</td>\n",
              "      <td>NaN</td>\n",
              "      <td>NaN</td>\n",
              "      <td>NaN</td>\n",
              "      <td>NaN</td>\n",
              "      <td>NaN</td>\n",
              "      <td>NaN</td>\n",
              "      <td>NaN</td>\n",
              "      <td>NaN</td>\n",
              "      <td>NaN</td>\n",
              "      <td>NaN</td>\n",
              "      <td>NaN</td>\n",
              "      <td>NaN</td>\n",
              "      <td>NaN</td>\n",
              "      <td>NaN</td>\n",
              "      <td>NaN</td>\n",
              "      <td>NaN</td>\n",
              "      <td>NaN</td>\n",
              "      <td>NaN</td>\n",
              "      <td>NaN</td>\n",
              "      <td>NaN</td>\n",
              "      <td>NaN</td>\n",
              "      <td>NaN</td>\n",
              "      <td>0.0</td>\n",
              "      <td>0.0</td>\n",
              "      <td>NaN</td>\n",
              "      <td>NaN</td>\n",
              "      <td>NaN</td>\n",
              "      <td>NaN</td>\n",
              "    </tr>\n",
              "    <tr>\n",
              "      <th>1</th>\n",
              "      <td>1077430</td>\n",
              "      <td>1314167</td>\n",
              "      <td>2500</td>\n",
              "      <td>2500</td>\n",
              "      <td>2500.0</td>\n",
              "      <td>60 months</td>\n",
              "      <td>15.27%</td>\n",
              "      <td>59.83</td>\n",
              "      <td>C</td>\n",
              "      <td>C4</td>\n",
              "      <td>Ryder</td>\n",
              "      <td>&lt; 1 year</td>\n",
              "      <td>RENT</td>\n",
              "      <td>30000.0</td>\n",
              "      <td>Source Verified</td>\n",
              "      <td>Dec-11</td>\n",
              "      <td>Charged Off</td>\n",
              "      <td>n</td>\n",
              "      <td>https://lendingclub.com/browse/loanDetail.acti...</td>\n",
              "      <td>Borrower added on 12/22/11 &gt; I plan to use t...</td>\n",
              "      <td>car</td>\n",
              "      <td>bike</td>\n",
              "      <td>309xx</td>\n",
              "      <td>GA</td>\n",
              "      <td>1.00</td>\n",
              "      <td>0</td>\n",
              "      <td>Apr-99</td>\n",
              "      <td>5</td>\n",
              "      <td>NaN</td>\n",
              "      <td>NaN</td>\n",
              "      <td>3</td>\n",
              "      <td>0</td>\n",
              "      <td>1687</td>\n",
              "      <td>9.40%</td>\n",
              "      <td>4</td>\n",
              "      <td>f</td>\n",
              "      <td>0.0</td>\n",
              "      <td>0.0</td>\n",
              "      <td>1008.710000</td>\n",
              "      <td>1008.71</td>\n",
              "      <td>...</td>\n",
              "      <td>NaN</td>\n",
              "      <td>NaN</td>\n",
              "      <td>NaN</td>\n",
              "      <td>NaN</td>\n",
              "      <td>NaN</td>\n",
              "      <td>NaN</td>\n",
              "      <td>NaN</td>\n",
              "      <td>0.0</td>\n",
              "      <td>0</td>\n",
              "      <td>NaN</td>\n",
              "      <td>NaN</td>\n",
              "      <td>NaN</td>\n",
              "      <td>NaN</td>\n",
              "      <td>NaN</td>\n",
              "      <td>NaN</td>\n",
              "      <td>NaN</td>\n",
              "      <td>NaN</td>\n",
              "      <td>NaN</td>\n",
              "      <td>NaN</td>\n",
              "      <td>NaN</td>\n",
              "      <td>NaN</td>\n",
              "      <td>NaN</td>\n",
              "      <td>NaN</td>\n",
              "      <td>NaN</td>\n",
              "      <td>NaN</td>\n",
              "      <td>NaN</td>\n",
              "      <td>NaN</td>\n",
              "      <td>NaN</td>\n",
              "      <td>NaN</td>\n",
              "      <td>NaN</td>\n",
              "      <td>NaN</td>\n",
              "      <td>NaN</td>\n",
              "      <td>NaN</td>\n",
              "      <td>NaN</td>\n",
              "      <td>0.0</td>\n",
              "      <td>0.0</td>\n",
              "      <td>NaN</td>\n",
              "      <td>NaN</td>\n",
              "      <td>NaN</td>\n",
              "      <td>NaN</td>\n",
              "    </tr>\n",
              "  </tbody>\n",
              "</table>\n",
              "<p>2 rows × 111 columns</p>\n",
              "</div>"
            ],
            "text/plain": [
              "        id  member_id  ...  total_bc_limit  total_il_high_credit_limit\n",
              "0  1077501    1296599  ...             NaN                         NaN\n",
              "1  1077430    1314167  ...             NaN                         NaN\n",
              "\n",
              "[2 rows x 111 columns]"
            ]
          },
          "metadata": {},
          "execution_count": 5
        }
      ]
    },
    {
      "cell_type": "code",
      "metadata": {
        "colab": {
          "base_uri": "https://localhost:8080/"
        },
        "id": "cYIB3tYsjV3E",
        "outputId": "f348c576-9b05-476e-a1b1-090f42478dbd"
      },
      "source": [
        "#Q1: How many unique customers, that means there are no duplicates\n",
        "len(loan['id'].unique())"
      ],
      "execution_count": 6,
      "outputs": [
        {
          "output_type": "execute_result",
          "data": {
            "text/plain": [
              "39717"
            ]
          },
          "metadata": {},
          "execution_count": 6
        }
      ]
    },
    {
      "cell_type": "code",
      "metadata": {
        "scrolled": true,
        "colab": {
          "base_uri": "https://localhost:8080/"
        },
        "id": "V0Ci0BdRjV3F",
        "outputId": "60453a37-ae2b-4abc-c05c-74a37688df49"
      },
      "source": [
        "loan.columns"
      ],
      "execution_count": 7,
      "outputs": [
        {
          "output_type": "execute_result",
          "data": {
            "text/plain": [
              "Index(['id', 'member_id', 'loan_amnt', 'funded_amnt', 'funded_amnt_inv',\n",
              "       'term', 'int_rate', 'installment', 'grade', 'sub_grade',\n",
              "       ...\n",
              "       'num_tl_90g_dpd_24m', 'num_tl_op_past_12m', 'pct_tl_nvr_dlq',\n",
              "       'percent_bc_gt_75', 'pub_rec_bankruptcies', 'tax_liens',\n",
              "       'tot_hi_cred_lim', 'total_bal_ex_mort', 'total_bc_limit',\n",
              "       'total_il_high_credit_limit'],\n",
              "      dtype='object', length=111)"
            ]
          },
          "metadata": {},
          "execution_count": 7
        }
      ]
    },
    {
      "cell_type": "code",
      "metadata": {
        "colab": {
          "base_uri": "https://localhost:8080/"
        },
        "id": "fpen4u3cjV3F",
        "outputId": "4c803057-aba6-48ef-fd00-7080d2d0d046"
      },
      "source": [
        "# To print list of columns\n",
        "for col in loan.columns:\n",
        "    print(col)"
      ],
      "execution_count": 8,
      "outputs": [
        {
          "output_type": "stream",
          "name": "stdout",
          "text": [
            "id\n",
            "member_id\n",
            "loan_amnt\n",
            "funded_amnt\n",
            "funded_amnt_inv\n",
            "term\n",
            "int_rate\n",
            "installment\n",
            "grade\n",
            "sub_grade\n",
            "emp_title\n",
            "emp_length\n",
            "home_ownership\n",
            "annual_inc\n",
            "verification_status\n",
            "issue_d\n",
            "loan_status\n",
            "pymnt_plan\n",
            "url\n",
            "desc\n",
            "purpose\n",
            "title\n",
            "zip_code\n",
            "addr_state\n",
            "dti\n",
            "delinq_2yrs\n",
            "earliest_cr_line\n",
            "inq_last_6mths\n",
            "mths_since_last_delinq\n",
            "mths_since_last_record\n",
            "open_acc\n",
            "pub_rec\n",
            "revol_bal\n",
            "revol_util\n",
            "total_acc\n",
            "initial_list_status\n",
            "out_prncp\n",
            "out_prncp_inv\n",
            "total_pymnt\n",
            "total_pymnt_inv\n",
            "total_rec_prncp\n",
            "total_rec_int\n",
            "total_rec_late_fee\n",
            "recoveries\n",
            "collection_recovery_fee\n",
            "last_pymnt_d\n",
            "last_pymnt_amnt\n",
            "next_pymnt_d\n",
            "last_credit_pull_d\n",
            "collections_12_mths_ex_med\n",
            "mths_since_last_major_derog\n",
            "policy_code\n",
            "application_type\n",
            "annual_inc_joint\n",
            "dti_joint\n",
            "verification_status_joint\n",
            "acc_now_delinq\n",
            "tot_coll_amt\n",
            "tot_cur_bal\n",
            "open_acc_6m\n",
            "open_il_6m\n",
            "open_il_12m\n",
            "open_il_24m\n",
            "mths_since_rcnt_il\n",
            "total_bal_il\n",
            "il_util\n",
            "open_rv_12m\n",
            "open_rv_24m\n",
            "max_bal_bc\n",
            "all_util\n",
            "total_rev_hi_lim\n",
            "inq_fi\n",
            "total_cu_tl\n",
            "inq_last_12m\n",
            "acc_open_past_24mths\n",
            "avg_cur_bal\n",
            "bc_open_to_buy\n",
            "bc_util\n",
            "chargeoff_within_12_mths\n",
            "delinq_amnt\n",
            "mo_sin_old_il_acct\n",
            "mo_sin_old_rev_tl_op\n",
            "mo_sin_rcnt_rev_tl_op\n",
            "mo_sin_rcnt_tl\n",
            "mort_acc\n",
            "mths_since_recent_bc\n",
            "mths_since_recent_bc_dlq\n",
            "mths_since_recent_inq\n",
            "mths_since_recent_revol_delinq\n",
            "num_accts_ever_120_pd\n",
            "num_actv_bc_tl\n",
            "num_actv_rev_tl\n",
            "num_bc_sats\n",
            "num_bc_tl\n",
            "num_il_tl\n",
            "num_op_rev_tl\n",
            "num_rev_accts\n",
            "num_rev_tl_bal_gt_0\n",
            "num_sats\n",
            "num_tl_120dpd_2m\n",
            "num_tl_30dpd\n",
            "num_tl_90g_dpd_24m\n",
            "num_tl_op_past_12m\n",
            "pct_tl_nvr_dlq\n",
            "percent_bc_gt_75\n",
            "pub_rec_bankruptcies\n",
            "tax_liens\n",
            "tot_hi_cred_lim\n",
            "total_bal_ex_mort\n",
            "total_bc_limit\n",
            "total_il_high_credit_limit\n"
          ]
        }
      ]
    },
    {
      "cell_type": "markdown",
      "metadata": {
        "id": "QIKtWlOHvlHk"
      },
      "source": [
        "##Task 2: Identify variables required for analysis and Subset data for analysis based on problem statement"
      ]
    },
    {
      "cell_type": "code",
      "metadata": {
        "id": "ywaFfVKqjV3G"
      },
      "source": [
        "# Set up format of values for readability\n",
        "pd.options.display.float_format = '{:,.1f}'.format\n",
        "# pd.options.display.float_format = '{:,}'.format"
      ],
      "execution_count": 9,
      "outputs": []
    },
    {
      "cell_type": "code",
      "metadata": {
        "colab": {
          "base_uri": "https://localhost:8080/",
          "height": 99
        },
        "id": "DTtHtPBLjV3G",
        "outputId": "fdc740f1-835e-404e-9ab2-43a34264c4c9"
      },
      "source": [
        "# Checking missing values -  loan.isnull().sum()\n",
        "# Checking duplicates\n",
        "# loan = loan.drop_duplicates()\n",
        "# loan.shape\n",
        "# print(loan.duplicated(subset=None,keep='first').count())\n",
        "dup=loan[loan.duplicated(['id'])]\n",
        "dup\n",
        "# There are no duplicate rows in loan dataset"
      ],
      "execution_count": 10,
      "outputs": [
        {
          "output_type": "execute_result",
          "data": {
            "text/html": [
              "<div>\n",
              "<style scoped>\n",
              "    .dataframe tbody tr th:only-of-type {\n",
              "        vertical-align: middle;\n",
              "    }\n",
              "\n",
              "    .dataframe tbody tr th {\n",
              "        vertical-align: top;\n",
              "    }\n",
              "\n",
              "    .dataframe thead th {\n",
              "        text-align: right;\n",
              "    }\n",
              "</style>\n",
              "<table border=\"1\" class=\"dataframe\">\n",
              "  <thead>\n",
              "    <tr style=\"text-align: right;\">\n",
              "      <th></th>\n",
              "      <th>id</th>\n",
              "      <th>member_id</th>\n",
              "      <th>loan_amnt</th>\n",
              "      <th>funded_amnt</th>\n",
              "      <th>funded_amnt_inv</th>\n",
              "      <th>term</th>\n",
              "      <th>int_rate</th>\n",
              "      <th>installment</th>\n",
              "      <th>grade</th>\n",
              "      <th>sub_grade</th>\n",
              "      <th>emp_title</th>\n",
              "      <th>emp_length</th>\n",
              "      <th>home_ownership</th>\n",
              "      <th>annual_inc</th>\n",
              "      <th>verification_status</th>\n",
              "      <th>issue_d</th>\n",
              "      <th>loan_status</th>\n",
              "      <th>pymnt_plan</th>\n",
              "      <th>url</th>\n",
              "      <th>desc</th>\n",
              "      <th>purpose</th>\n",
              "      <th>title</th>\n",
              "      <th>zip_code</th>\n",
              "      <th>addr_state</th>\n",
              "      <th>dti</th>\n",
              "      <th>delinq_2yrs</th>\n",
              "      <th>earliest_cr_line</th>\n",
              "      <th>inq_last_6mths</th>\n",
              "      <th>mths_since_last_delinq</th>\n",
              "      <th>mths_since_last_record</th>\n",
              "      <th>open_acc</th>\n",
              "      <th>pub_rec</th>\n",
              "      <th>revol_bal</th>\n",
              "      <th>revol_util</th>\n",
              "      <th>total_acc</th>\n",
              "      <th>initial_list_status</th>\n",
              "      <th>out_prncp</th>\n",
              "      <th>out_prncp_inv</th>\n",
              "      <th>total_pymnt</th>\n",
              "      <th>total_pymnt_inv</th>\n",
              "      <th>...</th>\n",
              "      <th>inq_fi</th>\n",
              "      <th>total_cu_tl</th>\n",
              "      <th>inq_last_12m</th>\n",
              "      <th>acc_open_past_24mths</th>\n",
              "      <th>avg_cur_bal</th>\n",
              "      <th>bc_open_to_buy</th>\n",
              "      <th>bc_util</th>\n",
              "      <th>chargeoff_within_12_mths</th>\n",
              "      <th>delinq_amnt</th>\n",
              "      <th>mo_sin_old_il_acct</th>\n",
              "      <th>mo_sin_old_rev_tl_op</th>\n",
              "      <th>mo_sin_rcnt_rev_tl_op</th>\n",
              "      <th>mo_sin_rcnt_tl</th>\n",
              "      <th>mort_acc</th>\n",
              "      <th>mths_since_recent_bc</th>\n",
              "      <th>mths_since_recent_bc_dlq</th>\n",
              "      <th>mths_since_recent_inq</th>\n",
              "      <th>mths_since_recent_revol_delinq</th>\n",
              "      <th>num_accts_ever_120_pd</th>\n",
              "      <th>num_actv_bc_tl</th>\n",
              "      <th>num_actv_rev_tl</th>\n",
              "      <th>num_bc_sats</th>\n",
              "      <th>num_bc_tl</th>\n",
              "      <th>num_il_tl</th>\n",
              "      <th>num_op_rev_tl</th>\n",
              "      <th>num_rev_accts</th>\n",
              "      <th>num_rev_tl_bal_gt_0</th>\n",
              "      <th>num_sats</th>\n",
              "      <th>num_tl_120dpd_2m</th>\n",
              "      <th>num_tl_30dpd</th>\n",
              "      <th>num_tl_90g_dpd_24m</th>\n",
              "      <th>num_tl_op_past_12m</th>\n",
              "      <th>pct_tl_nvr_dlq</th>\n",
              "      <th>percent_bc_gt_75</th>\n",
              "      <th>pub_rec_bankruptcies</th>\n",
              "      <th>tax_liens</th>\n",
              "      <th>tot_hi_cred_lim</th>\n",
              "      <th>total_bal_ex_mort</th>\n",
              "      <th>total_bc_limit</th>\n",
              "      <th>total_il_high_credit_limit</th>\n",
              "    </tr>\n",
              "  </thead>\n",
              "  <tbody>\n",
              "  </tbody>\n",
              "</table>\n",
              "<p>0 rows × 111 columns</p>\n",
              "</div>"
            ],
            "text/plain": [
              "Empty DataFrame\n",
              "Columns: [id, member_id, loan_amnt, funded_amnt, funded_amnt_inv, term, int_rate, installment, grade, sub_grade, emp_title, emp_length, home_ownership, annual_inc, verification_status, issue_d, loan_status, pymnt_plan, url, desc, purpose, title, zip_code, addr_state, dti, delinq_2yrs, earliest_cr_line, inq_last_6mths, mths_since_last_delinq, mths_since_last_record, open_acc, pub_rec, revol_bal, revol_util, total_acc, initial_list_status, out_prncp, out_prncp_inv, total_pymnt, total_pymnt_inv, total_rec_prncp, total_rec_int, total_rec_late_fee, recoveries, collection_recovery_fee, last_pymnt_d, last_pymnt_amnt, next_pymnt_d, last_credit_pull_d, collections_12_mths_ex_med, mths_since_last_major_derog, policy_code, application_type, annual_inc_joint, dti_joint, verification_status_joint, acc_now_delinq, tot_coll_amt, tot_cur_bal, open_acc_6m, open_il_6m, open_il_12m, open_il_24m, mths_since_rcnt_il, total_bal_il, il_util, open_rv_12m, open_rv_24m, max_bal_bc, all_util, total_rev_hi_lim, inq_fi, total_cu_tl, inq_last_12m, acc_open_past_24mths, avg_cur_bal, bc_open_to_buy, bc_util, chargeoff_within_12_mths, delinq_amnt, mo_sin_old_il_acct, mo_sin_old_rev_tl_op, mo_sin_rcnt_rev_tl_op, mo_sin_rcnt_tl, mort_acc, mths_since_recent_bc, mths_since_recent_bc_dlq, mths_since_recent_inq, mths_since_recent_revol_delinq, num_accts_ever_120_pd, num_actv_bc_tl, num_actv_rev_tl, num_bc_sats, num_bc_tl, num_il_tl, num_op_rev_tl, num_rev_accts, num_rev_tl_bal_gt_0, num_sats, num_tl_120dpd_2m, ...]\n",
              "Index: []\n",
              "\n",
              "[0 rows x 111 columns]"
            ]
          },
          "metadata": {},
          "execution_count": 10
        }
      ]
    },
    {
      "cell_type": "code",
      "metadata": {
        "colab": {
          "base_uri": "https://localhost:8080/"
        },
        "id": "-zq5FBr0xOkr",
        "outputId": "17017996-3809-49dd-b5ee-eaebf93d7031"
      },
      "source": [
        "# sum it up to check how many rows have all missing values\n",
        "print('Number of empty Rows:')\n",
        "print(loan.isnull().all(axis=1).sum())\n",
        "# Observation: There are no empty rows in whole dataset.\n",
        "\n",
        "# sum it up to check how many columns have all missing values\n",
        "print('Number of empty Columns:')\n",
        "print(loan.isnull().all(axis=0).sum())\n",
        "# Observation: There are 54 columns have all missing values."
      ],
      "execution_count": 11,
      "outputs": [
        {
          "output_type": "stream",
          "name": "stdout",
          "text": [
            "Number of empty Rows:\n",
            "0\n",
            "Number of empty Columns:\n",
            "54\n"
          ]
        }
      ]
    },
    {
      "cell_type": "code",
      "metadata": {
        "id": "Zh16o1WjjV3H"
      },
      "source": [
        "# Remove column with all na values\n",
        "# loan.drop(loan.iloc[:, 53:105], inplace = True, axis = 1) \n",
        "# The default is how='any', such that any row or column (depending on the axis keyword) containing a null value will be dropped. \n",
        "# You can also specify how='all', which will only drop rows/columns that are all null values:\n",
        "# df.dropna(axis='columns', how='all')\n",
        "# Refer link - https://jakevdp.github.io/PythonDataScienceHandbook/03.04-missing-values.html\n",
        "\n",
        "loan.dropna(axis='columns', how='all', inplace=True)\n"
      ],
      "execution_count": 12,
      "outputs": []
    },
    {
      "cell_type": "code",
      "metadata": {
        "colab": {
          "base_uri": "https://localhost:8080/"
        },
        "id": "y2rBj2KzjV3I",
        "outputId": "9f2cafb9-ddfa-4e3a-84a0-1d336d0bc533"
      },
      "source": [
        "loan.shape\n",
        "# Earlier there were 111 columns, after removing columns with all null values we have 57 columns"
      ],
      "execution_count": 13,
      "outputs": [
        {
          "output_type": "execute_result",
          "data": {
            "text/plain": [
              "(39717, 57)"
            ]
          },
          "metadata": {},
          "execution_count": 13
        }
      ]
    },
    {
      "cell_type": "code",
      "metadata": {
        "id": "8D0ycdJ4jV3I"
      },
      "source": [
        "# For finer-grained control, the thresh parameter lets you specify a minimum number of non-null values for the row/column to be kept:\n",
        "# loan.dropna(axis='rows', thresh = 4)"
      ],
      "execution_count": 14,
      "outputs": []
    },
    {
      "cell_type": "code",
      "metadata": {
        "colab": {
          "base_uri": "https://localhost:8080/",
          "height": 340
        },
        "id": "0_cUTlpejV3I",
        "outputId": "687faa9c-4772-4e67-e0c3-7edac734b8e7"
      },
      "source": [
        "loan.head(2)"
      ],
      "execution_count": 15,
      "outputs": [
        {
          "output_type": "execute_result",
          "data": {
            "text/html": [
              "<div>\n",
              "<style scoped>\n",
              "    .dataframe tbody tr th:only-of-type {\n",
              "        vertical-align: middle;\n",
              "    }\n",
              "\n",
              "    .dataframe tbody tr th {\n",
              "        vertical-align: top;\n",
              "    }\n",
              "\n",
              "    .dataframe thead th {\n",
              "        text-align: right;\n",
              "    }\n",
              "</style>\n",
              "<table border=\"1\" class=\"dataframe\">\n",
              "  <thead>\n",
              "    <tr style=\"text-align: right;\">\n",
              "      <th></th>\n",
              "      <th>id</th>\n",
              "      <th>member_id</th>\n",
              "      <th>loan_amnt</th>\n",
              "      <th>funded_amnt</th>\n",
              "      <th>funded_amnt_inv</th>\n",
              "      <th>term</th>\n",
              "      <th>int_rate</th>\n",
              "      <th>installment</th>\n",
              "      <th>grade</th>\n",
              "      <th>sub_grade</th>\n",
              "      <th>emp_title</th>\n",
              "      <th>emp_length</th>\n",
              "      <th>home_ownership</th>\n",
              "      <th>annual_inc</th>\n",
              "      <th>verification_status</th>\n",
              "      <th>issue_d</th>\n",
              "      <th>loan_status</th>\n",
              "      <th>pymnt_plan</th>\n",
              "      <th>url</th>\n",
              "      <th>desc</th>\n",
              "      <th>purpose</th>\n",
              "      <th>title</th>\n",
              "      <th>zip_code</th>\n",
              "      <th>addr_state</th>\n",
              "      <th>dti</th>\n",
              "      <th>delinq_2yrs</th>\n",
              "      <th>earliest_cr_line</th>\n",
              "      <th>inq_last_6mths</th>\n",
              "      <th>mths_since_last_delinq</th>\n",
              "      <th>mths_since_last_record</th>\n",
              "      <th>open_acc</th>\n",
              "      <th>pub_rec</th>\n",
              "      <th>revol_bal</th>\n",
              "      <th>revol_util</th>\n",
              "      <th>total_acc</th>\n",
              "      <th>initial_list_status</th>\n",
              "      <th>out_prncp</th>\n",
              "      <th>out_prncp_inv</th>\n",
              "      <th>total_pymnt</th>\n",
              "      <th>total_pymnt_inv</th>\n",
              "      <th>total_rec_prncp</th>\n",
              "      <th>total_rec_int</th>\n",
              "      <th>total_rec_late_fee</th>\n",
              "      <th>recoveries</th>\n",
              "      <th>collection_recovery_fee</th>\n",
              "      <th>last_pymnt_d</th>\n",
              "      <th>last_pymnt_amnt</th>\n",
              "      <th>next_pymnt_d</th>\n",
              "      <th>last_credit_pull_d</th>\n",
              "      <th>collections_12_mths_ex_med</th>\n",
              "      <th>policy_code</th>\n",
              "      <th>application_type</th>\n",
              "      <th>acc_now_delinq</th>\n",
              "      <th>chargeoff_within_12_mths</th>\n",
              "      <th>delinq_amnt</th>\n",
              "      <th>pub_rec_bankruptcies</th>\n",
              "      <th>tax_liens</th>\n",
              "    </tr>\n",
              "  </thead>\n",
              "  <tbody>\n",
              "    <tr>\n",
              "      <th>0</th>\n",
              "      <td>1077501</td>\n",
              "      <td>1296599</td>\n",
              "      <td>5000</td>\n",
              "      <td>5000</td>\n",
              "      <td>4,975.0</td>\n",
              "      <td>36 months</td>\n",
              "      <td>10.65%</td>\n",
              "      <td>162.9</td>\n",
              "      <td>B</td>\n",
              "      <td>B2</td>\n",
              "      <td>NaN</td>\n",
              "      <td>10+ years</td>\n",
              "      <td>RENT</td>\n",
              "      <td>24,000.0</td>\n",
              "      <td>Verified</td>\n",
              "      <td>Dec-11</td>\n",
              "      <td>Fully Paid</td>\n",
              "      <td>n</td>\n",
              "      <td>https://lendingclub.com/browse/loanDetail.acti...</td>\n",
              "      <td>Borrower added on 12/22/11 &gt; I need to upgra...</td>\n",
              "      <td>credit_card</td>\n",
              "      <td>Computer</td>\n",
              "      <td>860xx</td>\n",
              "      <td>AZ</td>\n",
              "      <td>27.6</td>\n",
              "      <td>0</td>\n",
              "      <td>Jan-85</td>\n",
              "      <td>1</td>\n",
              "      <td>nan</td>\n",
              "      <td>nan</td>\n",
              "      <td>3</td>\n",
              "      <td>0</td>\n",
              "      <td>13648</td>\n",
              "      <td>83.70%</td>\n",
              "      <td>9</td>\n",
              "      <td>f</td>\n",
              "      <td>0.0</td>\n",
              "      <td>0.0</td>\n",
              "      <td>5,863.2</td>\n",
              "      <td>5,833.8</td>\n",
              "      <td>5,000.0</td>\n",
              "      <td>863.2</td>\n",
              "      <td>0.0</td>\n",
              "      <td>0.0</td>\n",
              "      <td>0.0</td>\n",
              "      <td>Jan-15</td>\n",
              "      <td>171.6</td>\n",
              "      <td>NaN</td>\n",
              "      <td>May-16</td>\n",
              "      <td>0.0</td>\n",
              "      <td>1</td>\n",
              "      <td>INDIVIDUAL</td>\n",
              "      <td>0</td>\n",
              "      <td>0.0</td>\n",
              "      <td>0</td>\n",
              "      <td>0.0</td>\n",
              "      <td>0.0</td>\n",
              "    </tr>\n",
              "    <tr>\n",
              "      <th>1</th>\n",
              "      <td>1077430</td>\n",
              "      <td>1314167</td>\n",
              "      <td>2500</td>\n",
              "      <td>2500</td>\n",
              "      <td>2,500.0</td>\n",
              "      <td>60 months</td>\n",
              "      <td>15.27%</td>\n",
              "      <td>59.8</td>\n",
              "      <td>C</td>\n",
              "      <td>C4</td>\n",
              "      <td>Ryder</td>\n",
              "      <td>&lt; 1 year</td>\n",
              "      <td>RENT</td>\n",
              "      <td>30,000.0</td>\n",
              "      <td>Source Verified</td>\n",
              "      <td>Dec-11</td>\n",
              "      <td>Charged Off</td>\n",
              "      <td>n</td>\n",
              "      <td>https://lendingclub.com/browse/loanDetail.acti...</td>\n",
              "      <td>Borrower added on 12/22/11 &gt; I plan to use t...</td>\n",
              "      <td>car</td>\n",
              "      <td>bike</td>\n",
              "      <td>309xx</td>\n",
              "      <td>GA</td>\n",
              "      <td>1.0</td>\n",
              "      <td>0</td>\n",
              "      <td>Apr-99</td>\n",
              "      <td>5</td>\n",
              "      <td>nan</td>\n",
              "      <td>nan</td>\n",
              "      <td>3</td>\n",
              "      <td>0</td>\n",
              "      <td>1687</td>\n",
              "      <td>9.40%</td>\n",
              "      <td>4</td>\n",
              "      <td>f</td>\n",
              "      <td>0.0</td>\n",
              "      <td>0.0</td>\n",
              "      <td>1,008.7</td>\n",
              "      <td>1,008.7</td>\n",
              "      <td>456.5</td>\n",
              "      <td>435.2</td>\n",
              "      <td>0.0</td>\n",
              "      <td>117.1</td>\n",
              "      <td>1.1</td>\n",
              "      <td>Apr-13</td>\n",
              "      <td>119.7</td>\n",
              "      <td>NaN</td>\n",
              "      <td>Sep-13</td>\n",
              "      <td>0.0</td>\n",
              "      <td>1</td>\n",
              "      <td>INDIVIDUAL</td>\n",
              "      <td>0</td>\n",
              "      <td>0.0</td>\n",
              "      <td>0</td>\n",
              "      <td>0.0</td>\n",
              "      <td>0.0</td>\n",
              "    </tr>\n",
              "  </tbody>\n",
              "</table>\n",
              "</div>"
            ],
            "text/plain": [
              "        id  member_id  loan_amnt  ...  delinq_amnt  pub_rec_bankruptcies tax_liens\n",
              "0  1077501    1296599       5000  ...            0                   0.0       0.0\n",
              "1  1077430    1314167       2500  ...            0                   0.0       0.0\n",
              "\n",
              "[2 rows x 57 columns]"
            ]
          },
          "metadata": {},
          "execution_count": 15
        }
      ]
    },
    {
      "cell_type": "code",
      "metadata": {
        "colab": {
          "base_uri": "https://localhost:8080/"
        },
        "id": "8kvZ-nXGjV3J",
        "outputId": "3baf7c78-6aba-494c-e8a4-9035cd15312b"
      },
      "source": [
        "# Let's look at (loan_status variable)\n",
        "loan['loan_status'].value_counts()"
      ],
      "execution_count": 16,
      "outputs": [
        {
          "output_type": "execute_result",
          "data": {
            "text/plain": [
              "Fully Paid     32950\n",
              "Charged Off     5627\n",
              "Current         1140\n",
              "Name: loan_status, dtype: int64"
            ]
          },
          "metadata": {},
          "execution_count": 16
        }
      ]
    },
    {
      "cell_type": "code",
      "metadata": {
        "id": "jZoZnXNGjV3J"
      },
      "source": [
        "# Since we are not considering current loans, lets filter dataframe for - 'Fully Paid' and 'Charged Off'\n",
        "loan = loan[loan['loan_status'].isin(['Fully Paid', 'Charged Off'])]\n",
        "# 38577 rows"
      ],
      "execution_count": 17,
      "outputs": []
    },
    {
      "cell_type": "code",
      "metadata": {
        "colab": {
          "base_uri": "https://localhost:8080/"
        },
        "id": "srVYP1WAnfQa",
        "outputId": "65d53387-9efc-439f-8f55-ea68518a4e3d"
      },
      "source": [
        "loan.shape"
      ],
      "execution_count": 18,
      "outputs": [
        {
          "output_type": "execute_result",
          "data": {
            "text/plain": [
              "(38577, 57)"
            ]
          },
          "metadata": {},
          "execution_count": 18
        }
      ]
    },
    {
      "cell_type": "code",
      "metadata": {
        "id": "L_pw_oywjV3K"
      },
      "source": [
        "# Next let's remove columns related to current loan status, as we are looking at paid or charge off accounts\n",
        "not_required1 =  [\n",
        "  \"delinq_2yrs\",\n",
        "  \"earliest_cr_line\",\n",
        "  \"inq_last_6mths\",\n",
        "  \"open_acc\",\n",
        "  \"pub_rec\",\n",
        "  \"revol_bal\",\n",
        "  \"revol_util\",\n",
        "  \"total_acc\",\n",
        "  \"out_prncp\",\n",
        "  \"out_prncp_inv\",\n",
        "  \"total_pymnt\",\n",
        "  \"total_pymnt_inv\",\n",
        "  \"total_rec_prncp\",\n",
        "  \"total_rec_int\",\n",
        "  \"total_rec_late_fee\",\n",
        "  \"recoveries\",\n",
        "  \"collection_recovery_fee\",\n",
        "  \"last_pymnt_d\",\n",
        "  \"last_pymnt_amnt\",\n",
        "  \"last_credit_pull_d\"]"
      ],
      "execution_count": 19,
      "outputs": []
    },
    {
      "cell_type": "code",
      "metadata": {
        "id": "7ZPwNkBsjV3K"
      },
      "source": [
        "# Removing variables related to current loan status as this is not relevant in analysis\n",
        "\n",
        "# drop_list1 = [\"member_id\",\"url\",\"emp_title\",\"zip_code\",\"tax_liens\"]\n",
        "# loan.drop(labels = drop_list1, axis =1, inplace=True)\n",
        "# refer - https://www.geeksforgeeks.org/select-rows-columns-by-name-or-index-in-pandas-dataframe-using-loc-iloc/?ref=rp\n",
        "# Using loc method to subset dataset for not_required1\n",
        "# a = loan.loc[:,loan.columns!=\"application_type\"]\n",
        "\n",
        "loan.drop(labels = not_required1,axis=1,inplace=True)\n",
        "# loan = loan.loc[:,~loan.columns.isin(not_required1)]"
      ],
      "execution_count": 20,
      "outputs": []
    },
    {
      "cell_type": "code",
      "metadata": {
        "colab": {
          "base_uri": "https://localhost:8080/"
        },
        "id": "haAb4gT-jV3K",
        "outputId": "fbdc4559-8bcb-4472-ba3a-a19e2ce06b05"
      },
      "source": [
        "loan.shape"
      ],
      "execution_count": 21,
      "outputs": [
        {
          "output_type": "execute_result",
          "data": {
            "text/plain": [
              "(38577, 37)"
            ]
          },
          "metadata": {},
          "execution_count": 21
        }
      ]
    },
    {
      "cell_type": "markdown",
      "metadata": {
        "id": "RHQGwQ49o4ul"
      },
      "source": [
        "Since we need to identify variables not relevant for analysis. Specially where we have all column with missing information. Although we had run drop.na, still there are few variables where we do see 0 and na values"
      ]
    },
    {
      "cell_type": "code",
      "metadata": {
        "colab": {
          "base_uri": "https://localhost:8080/"
        },
        "id": "uOpM3iC8jV3K",
        "outputId": "e8302178-dcef-4d6b-cdbd-8d8373b81254"
      },
      "source": [
        "# Let's further look at variables where we have missing values\n",
        "missing = round(100*(loan.isnull().sum()/len(loan.id)), 2)\n",
        "missing[missing != 0]"
      ],
      "execution_count": 22,
      "outputs": [
        {
          "output_type": "execute_result",
          "data": {
            "text/plain": [
              "emp_title                      6.2\n",
              "emp_length                     2.7\n",
              "desc                          32.5\n",
              "title                          0.0\n",
              "mths_since_last_delinq        64.6\n",
              "mths_since_last_record        92.9\n",
              "next_pymnt_d                 100.0\n",
              "collections_12_mths_ex_med     0.1\n",
              "chargeoff_within_12_mths       0.1\n",
              "pub_rec_bankruptcies           1.8\n",
              "tax_liens                      0.1\n",
              "dtype: float64"
            ]
          },
          "metadata": {},
          "execution_count": 22
        }
      ]
    },
    {
      "cell_type": "markdown",
      "metadata": {
        "id": "l93G3-u3ocxT"
      },
      "source": [
        "Let's further look at each variable where we have found missing values"
      ]
    },
    {
      "cell_type": "code",
      "metadata": {
        "colab": {
          "base_uri": "https://localhost:8080/"
        },
        "id": "MHGyYLf0jV3L",
        "outputId": "23c70c02-ec7e-4f48-9eba-3ebb733cc85d"
      },
      "source": [
        "loan['tax_liens'].unique()"
      ],
      "execution_count": 23,
      "outputs": [
        {
          "output_type": "execute_result",
          "data": {
            "text/plain": [
              "array([ 0., nan])"
            ]
          },
          "metadata": {},
          "execution_count": 23
        }
      ]
    },
    {
      "cell_type": "code",
      "metadata": {
        "colab": {
          "base_uri": "https://localhost:8080/"
        },
        "id": "zNt8DyT6jV3L",
        "outputId": "f46cff6c-74f3-4462-bfd0-0c5ef09ea353"
      },
      "source": [
        "loan.chargeoff_within_12_mths.unique()"
      ],
      "execution_count": 24,
      "outputs": [
        {
          "output_type": "execute_result",
          "data": {
            "text/plain": [
              "array([ 0., nan])"
            ]
          },
          "metadata": {},
          "execution_count": 24
        }
      ]
    },
    {
      "cell_type": "code",
      "metadata": {
        "colab": {
          "base_uri": "https://localhost:8080/"
        },
        "id": "kWJMo_EyjV3L",
        "outputId": "52273217-ac92-424a-8233-11b9ee4f75ce"
      },
      "source": [
        "loan.collections_12_mths_ex_med.unique()"
      ],
      "execution_count": 25,
      "outputs": [
        {
          "output_type": "execute_result",
          "data": {
            "text/plain": [
              "array([ 0., nan])"
            ]
          },
          "metadata": {},
          "execution_count": 25
        }
      ]
    },
    {
      "cell_type": "code",
      "metadata": {
        "colab": {
          "base_uri": "https://localhost:8080/"
        },
        "id": "OExBYh5ZjV3L",
        "outputId": "48698c97-2a60-40d7-b2da-88f49aaa9240"
      },
      "source": [
        "loan.pub_rec_bankruptcies.unique()"
      ],
      "execution_count": 26,
      "outputs": [
        {
          "output_type": "execute_result",
          "data": {
            "text/plain": [
              "array([ 0.,  1.,  2., nan])"
            ]
          },
          "metadata": {},
          "execution_count": 26
        }
      ]
    },
    {
      "cell_type": "code",
      "metadata": {
        "colab": {
          "base_uri": "https://localhost:8080/"
        },
        "id": "8uGPgcLjjV3M",
        "outputId": "cf617d39-065e-4fb9-81db-c5be906475c4"
      },
      "source": [
        "loan.title.unique()"
      ],
      "execution_count": 27,
      "outputs": [
        {
          "output_type": "execute_result",
          "data": {
            "text/plain": [
              "array(['Computer', 'bike', 'real estate business', ...,\n",
              "       'Retiring credit card debt', 'MBA Loan Consolidation', 'JAL Loan'],\n",
              "      dtype=object)"
            ]
          },
          "metadata": {},
          "execution_count": 27
        }
      ]
    },
    {
      "cell_type": "code",
      "metadata": {
        "colab": {
          "base_uri": "https://localhost:8080/"
        },
        "id": "2eVZkNAyjV3M",
        "outputId": "84d64562-83c2-45bf-fac8-f0155b4b1630"
      },
      "source": [
        "loan.desc.unique()"
      ],
      "execution_count": 28,
      "outputs": [
        {
          "output_type": "execute_result",
          "data": {
            "text/plain": [
              "array(['  Borrower added on 12/22/11 > I need to upgrade my business technologies.<br>',\n",
              "       '  Borrower added on 12/22/11 > I plan to use this money to finance the motorcycle i am looking at. I plan to have it paid off as soon as possible/when i sell my old bike. I only need this money because the deal im looking at is to good to pass up.<br><br>  Borrower added on 12/22/11 > I plan to use this money to finance the motorcycle i am looking at. I plan to have it paid off as soon as possible/when i sell my old bike.I only need this money because the deal im looking at is to good to pass up. I have finished college with an associates degree in business and its takingmeplaces<br>',\n",
              "       nan, ...,\n",
              "       'Our current gutter system on our home is old and in need of repair.    We will be using the borrowed funds to replace the gutter system on our home.',\n",
              "       'The rate of interest and fees incurred by carrying a balance on my credit card are so outrageous at this point that continuing to pay them is patently bad financial thinking.  I wish to redirect my efforts at retiring my debt via another more-reasonable means.    I have sufficient funds to direct to this end on a monthly basis, and have simply gotten tired of their being gobbled up by interest and fees.',\n",
              "       'I plan to consolidate over $7,000 of debt: a combination of credit cards and student loans.'],\n",
              "      dtype=object)"
            ]
          },
          "metadata": {},
          "execution_count": 28
        }
      ]
    },
    {
      "cell_type": "markdown",
      "metadata": {
        "id": "Psxf3ky6phhO"
      },
      "source": [
        "Let's look at unique count of each variable"
      ]
    },
    {
      "cell_type": "code",
      "metadata": {
        "colab": {
          "base_uri": "https://localhost:8080/"
        },
        "id": "XbYndZ_ejV3M",
        "outputId": "234aad9f-b552-4654-9e81-076700953830"
      },
      "source": [
        "loan.nunique().sort_values()"
      ],
      "execution_count": 29,
      "outputs": [
        {
          "output_type": "execute_result",
          "data": {
            "text/plain": [
              "next_pymnt_d                      0\n",
              "tax_liens                         1\n",
              "application_type                  1\n",
              "policy_code                       1\n",
              "collections_12_mths_ex_med        1\n",
              "initial_list_status               1\n",
              "pymnt_plan                        1\n",
              "acc_now_delinq                    1\n",
              "chargeoff_within_12_mths          1\n",
              "delinq_amnt                       1\n",
              "loan_status                       2\n",
              "term                              2\n",
              "verification_status               3\n",
              "pub_rec_bankruptcies              3\n",
              "home_ownership                    5\n",
              "grade                             7\n",
              "emp_length                       11\n",
              "purpose                          14\n",
              "sub_grade                        35\n",
              "addr_state                       50\n",
              "issue_d                          55\n",
              "mths_since_last_delinq           95\n",
              "mths_since_last_record          111\n",
              "int_rate                        370\n",
              "zip_code                        822\n",
              "loan_amnt                       870\n",
              "funded_amnt                    1019\n",
              "dti                            2853\n",
              "annual_inc                     5215\n",
              "funded_amnt_inv                8050\n",
              "installment                   15022\n",
              "title                         19297\n",
              "desc                          25803\n",
              "emp_title                     28027\n",
              "id                            38577\n",
              "member_id                     38577\n",
              "url                           38577\n",
              "dtype: int64"
            ]
          },
          "metadata": {},
          "execution_count": 29
        }
      ]
    },
    {
      "cell_type": "markdown",
      "metadata": {
        "id": "dG3FgBqhp1_s"
      },
      "source": [
        "We do see there are few variables not relevant for analysis such as emp_title, desc, id, member_id, url.\n",
        "Also, we do see there are few columns where only one value in throught the column being repeated - tax_liens, application_type,policy_code,\n",
        "collections_12_mths_ex_med, initial_list_status,\n",
        "pymnt_plan, acc_now_delinq, chargeoff_within_12_mths,\n",
        "delinq_amnt\n",
        "\n",
        "Details of list that looks redundant for analysis:\n",
        "1. pymnt_plan :\n",
        "value for entire dataset is 'n', therefore can be removed.\n",
        "2. url :\n",
        "is a URL for LC page for corresponding to each memberid, nothing to do with loan default.\n",
        "3. zip_code :\n",
        "as we are using addr_state, does not contribute to analysis\n",
        "4. initial_list_status :\n",
        "value for entire dataset is 'f' out of the possible values, therefore can be removed.\n",
        "5. policy_code :\n",
        "value for entire dataset is '1', indicating all are publicly available, therefore nothing to contribute for analysis, to be removed.\n",
        "6. application_type :\n",
        "value for entire dataset is 'INDIVIDUAL', indicating all are individual applications not joint, therefore nothing to contribute for analysis, to be removed.\n",
        "7. acc_now_delinq :\n",
        "value for entire dataset is '0', therefore can be removed.\n",
        "8. delinq_amnt :\n",
        "value for entire dataset is '0', therefore can be removed.\n"
      ]
    },
    {
      "cell_type": "code",
      "metadata": {
        "colab": {
          "base_uri": "https://localhost:8080/"
        },
        "id": "-YIv-yjyjV3M",
        "outputId": "4738fa61-7f3f-486b-b94e-edd9b5adcbc1"
      },
      "source": [
        "loan.acc_now_delinq.unique()"
      ],
      "execution_count": 30,
      "outputs": [
        {
          "output_type": "execute_result",
          "data": {
            "text/plain": [
              "array([0])"
            ]
          },
          "metadata": {},
          "execution_count": 30
        }
      ]
    },
    {
      "cell_type": "code",
      "metadata": {
        "colab": {
          "base_uri": "https://localhost:8080/"
        },
        "id": "zgHU0VNIjV3M",
        "outputId": "2a26341c-98b3-46c1-ed28-120d5aa42276"
      },
      "source": [
        "loan['policy_code'].unique()"
      ],
      "execution_count": 31,
      "outputs": [
        {
          "output_type": "execute_result",
          "data": {
            "text/plain": [
              "array([1])"
            ]
          },
          "metadata": {},
          "execution_count": 31
        }
      ]
    },
    {
      "cell_type": "code",
      "metadata": {
        "colab": {
          "base_uri": "https://localhost:8080/"
        },
        "id": "gpG7PXdkjV3M",
        "outputId": "873fc6a0-d306-4443-a03a-04e0e17070d2"
      },
      "source": [
        "loan['initial_list_status'].unique()"
      ],
      "execution_count": 32,
      "outputs": [
        {
          "output_type": "execute_result",
          "data": {
            "text/plain": [
              "array(['f'], dtype=object)"
            ]
          },
          "metadata": {},
          "execution_count": 32
        }
      ]
    },
    {
      "cell_type": "code",
      "metadata": {
        "colab": {
          "base_uri": "https://localhost:8080/"
        },
        "id": "Rls9GIgHjV3N",
        "outputId": "5059630d-c1cd-42fc-8329-9f8cd03f7cc7"
      },
      "source": [
        "loan['pymnt_plan'].unique()"
      ],
      "execution_count": 33,
      "outputs": [
        {
          "output_type": "execute_result",
          "data": {
            "text/plain": [
              "array(['n'], dtype=object)"
            ]
          },
          "metadata": {},
          "execution_count": 33
        }
      ]
    },
    {
      "cell_type": "code",
      "metadata": {
        "colab": {
          "base_uri": "https://localhost:8080/"
        },
        "id": "I7tIQ0t_jV3N",
        "outputId": "ecda8df4-4256-4712-b2dc-d91cc75b1f47"
      },
      "source": [
        "loan['delinq_amnt'].unique()"
      ],
      "execution_count": 34,
      "outputs": [
        {
          "output_type": "execute_result",
          "data": {
            "text/plain": [
              "array([0])"
            ]
          },
          "metadata": {},
          "execution_count": 34
        }
      ]
    },
    {
      "cell_type": "code",
      "metadata": {
        "colab": {
          "base_uri": "https://localhost:8080/"
        },
        "id": "28zOjUCcjV3N",
        "outputId": "595d479f-8a10-4973-9a51-8155904f573e"
      },
      "source": [
        "# Loan applications as an individual application or a joint application with two co-borrowers\n",
        "loan['application_type'].unique()"
      ],
      "execution_count": 35,
      "outputs": [
        {
          "output_type": "execute_result",
          "data": {
            "text/plain": [
              "array(['INDIVIDUAL'], dtype=object)"
            ]
          },
          "metadata": {},
          "execution_count": 35
        }
      ]
    },
    {
      "cell_type": "code",
      "metadata": {
        "id": "HLzehq0pjV3O"
      },
      "source": [
        "# \"title\", \"desc\", \"id\", \"member_id\" these columns are not required for further analysis\n",
        "# Also, there are only 0 and nan values in \"tax_liens\", \"chargeoff_within_12_mths\", \"collections_12_mths_ex_med\"\n",
        "not_required2 = [\"emp_title\",\"emp_length\",\"title\", \"desc\", \"id\", \"member_id\",\"tax_liens\", \"chargeoff_within_12_mths\", \"collections_12_mths_ex_med\",\"pymnt_plan\", \"url\",\"zip_code\", \"initial_list_status\",\"policy_code\", \"application_type\", \"acc_now_delinq\",\"delinq_amnt\"]"
      ],
      "execution_count": 36,
      "outputs": []
    },
    {
      "cell_type": "code",
      "metadata": {
        "id": "wtvY5RisjV3P"
      },
      "source": [
        "loan = loan.loc[:,~loan.columns.isin(not_required2)]"
      ],
      "execution_count": 37,
      "outputs": []
    },
    {
      "cell_type": "code",
      "metadata": {
        "colab": {
          "base_uri": "https://localhost:8080/"
        },
        "id": "t895gDqhjV3P",
        "outputId": "1ecd56ee-95c3-4432-f11f-57ba8cf778ad"
      },
      "source": [
        "loan.shape"
      ],
      "execution_count": 38,
      "outputs": [
        {
          "output_type": "execute_result",
          "data": {
            "text/plain": [
              "(38577, 20)"
            ]
          },
          "metadata": {},
          "execution_count": 38
        }
      ]
    },
    {
      "cell_type": "code",
      "metadata": {
        "colab": {
          "base_uri": "https://localhost:8080/",
          "height": 167
        },
        "id": "eIXHNpbwjV3P",
        "outputId": "6a995f9e-8f61-45b2-8190-67525739d254"
      },
      "source": [
        "loan.head(2)"
      ],
      "execution_count": 39,
      "outputs": [
        {
          "output_type": "execute_result",
          "data": {
            "text/html": [
              "<div>\n",
              "<style scoped>\n",
              "    .dataframe tbody tr th:only-of-type {\n",
              "        vertical-align: middle;\n",
              "    }\n",
              "\n",
              "    .dataframe tbody tr th {\n",
              "        vertical-align: top;\n",
              "    }\n",
              "\n",
              "    .dataframe thead th {\n",
              "        text-align: right;\n",
              "    }\n",
              "</style>\n",
              "<table border=\"1\" class=\"dataframe\">\n",
              "  <thead>\n",
              "    <tr style=\"text-align: right;\">\n",
              "      <th></th>\n",
              "      <th>loan_amnt</th>\n",
              "      <th>funded_amnt</th>\n",
              "      <th>funded_amnt_inv</th>\n",
              "      <th>term</th>\n",
              "      <th>int_rate</th>\n",
              "      <th>installment</th>\n",
              "      <th>grade</th>\n",
              "      <th>sub_grade</th>\n",
              "      <th>home_ownership</th>\n",
              "      <th>annual_inc</th>\n",
              "      <th>verification_status</th>\n",
              "      <th>issue_d</th>\n",
              "      <th>loan_status</th>\n",
              "      <th>purpose</th>\n",
              "      <th>addr_state</th>\n",
              "      <th>dti</th>\n",
              "      <th>mths_since_last_delinq</th>\n",
              "      <th>mths_since_last_record</th>\n",
              "      <th>next_pymnt_d</th>\n",
              "      <th>pub_rec_bankruptcies</th>\n",
              "    </tr>\n",
              "  </thead>\n",
              "  <tbody>\n",
              "    <tr>\n",
              "      <th>0</th>\n",
              "      <td>5000</td>\n",
              "      <td>5000</td>\n",
              "      <td>4,975.0</td>\n",
              "      <td>36 months</td>\n",
              "      <td>10.65%</td>\n",
              "      <td>162.9</td>\n",
              "      <td>B</td>\n",
              "      <td>B2</td>\n",
              "      <td>RENT</td>\n",
              "      <td>24,000.0</td>\n",
              "      <td>Verified</td>\n",
              "      <td>Dec-11</td>\n",
              "      <td>Fully Paid</td>\n",
              "      <td>credit_card</td>\n",
              "      <td>AZ</td>\n",
              "      <td>27.6</td>\n",
              "      <td>nan</td>\n",
              "      <td>nan</td>\n",
              "      <td>NaN</td>\n",
              "      <td>0.0</td>\n",
              "    </tr>\n",
              "    <tr>\n",
              "      <th>1</th>\n",
              "      <td>2500</td>\n",
              "      <td>2500</td>\n",
              "      <td>2,500.0</td>\n",
              "      <td>60 months</td>\n",
              "      <td>15.27%</td>\n",
              "      <td>59.8</td>\n",
              "      <td>C</td>\n",
              "      <td>C4</td>\n",
              "      <td>RENT</td>\n",
              "      <td>30,000.0</td>\n",
              "      <td>Source Verified</td>\n",
              "      <td>Dec-11</td>\n",
              "      <td>Charged Off</td>\n",
              "      <td>car</td>\n",
              "      <td>GA</td>\n",
              "      <td>1.0</td>\n",
              "      <td>nan</td>\n",
              "      <td>nan</td>\n",
              "      <td>NaN</td>\n",
              "      <td>0.0</td>\n",
              "    </tr>\n",
              "  </tbody>\n",
              "</table>\n",
              "</div>"
            ],
            "text/plain": [
              "   loan_amnt  funded_amnt  ...  next_pymnt_d pub_rec_bankruptcies\n",
              "0       5000         5000  ...           NaN                  0.0\n",
              "1       2500         2500  ...           NaN                  0.0\n",
              "\n",
              "[2 rows x 20 columns]"
            ]
          },
          "metadata": {},
          "execution_count": 39
        }
      ]
    },
    {
      "cell_type": "code",
      "metadata": {
        "colab": {
          "base_uri": "https://localhost:8080/"
        },
        "id": "uaTxUy2FjV3Q",
        "outputId": "d525a286-3892-47ce-9c1e-bfec99afac7e"
      },
      "source": [
        "for col in loan.columns:\n",
        "    print(col)"
      ],
      "execution_count": 40,
      "outputs": [
        {
          "output_type": "stream",
          "name": "stdout",
          "text": [
            "loan_amnt\n",
            "funded_amnt\n",
            "funded_amnt_inv\n",
            "term\n",
            "int_rate\n",
            "installment\n",
            "grade\n",
            "sub_grade\n",
            "home_ownership\n",
            "annual_inc\n",
            "verification_status\n",
            "issue_d\n",
            "loan_status\n",
            "purpose\n",
            "addr_state\n",
            "dti\n",
            "mths_since_last_delinq\n",
            "mths_since_last_record\n",
            "next_pymnt_d\n",
            "pub_rec_bankruptcies\n"
          ]
        }
      ]
    },
    {
      "cell_type": "code",
      "metadata": {
        "colab": {
          "base_uri": "https://localhost:8080/",
          "height": 300
        },
        "id": "iokFa5f8jV3Q",
        "outputId": "b294f179-fd27-4fa4-b606-0423ff026e76"
      },
      "source": [
        "loan.describe()"
      ],
      "execution_count": 41,
      "outputs": [
        {
          "output_type": "execute_result",
          "data": {
            "text/html": [
              "<div>\n",
              "<style scoped>\n",
              "    .dataframe tbody tr th:only-of-type {\n",
              "        vertical-align: middle;\n",
              "    }\n",
              "\n",
              "    .dataframe tbody tr th {\n",
              "        vertical-align: top;\n",
              "    }\n",
              "\n",
              "    .dataframe thead th {\n",
              "        text-align: right;\n",
              "    }\n",
              "</style>\n",
              "<table border=\"1\" class=\"dataframe\">\n",
              "  <thead>\n",
              "    <tr style=\"text-align: right;\">\n",
              "      <th></th>\n",
              "      <th>loan_amnt</th>\n",
              "      <th>funded_amnt</th>\n",
              "      <th>funded_amnt_inv</th>\n",
              "      <th>installment</th>\n",
              "      <th>annual_inc</th>\n",
              "      <th>dti</th>\n",
              "      <th>mths_since_last_delinq</th>\n",
              "      <th>mths_since_last_record</th>\n",
              "      <th>pub_rec_bankruptcies</th>\n",
              "    </tr>\n",
              "  </thead>\n",
              "  <tbody>\n",
              "    <tr>\n",
              "      <th>count</th>\n",
              "      <td>38,577.0</td>\n",
              "      <td>38,577.0</td>\n",
              "      <td>38,577.0</td>\n",
              "      <td>38,577.0</td>\n",
              "      <td>38,577.0</td>\n",
              "      <td>38,577.0</td>\n",
              "      <td>13,672.0</td>\n",
              "      <td>2,740.0</td>\n",
              "      <td>37,880.0</td>\n",
              "    </tr>\n",
              "    <tr>\n",
              "      <th>mean</th>\n",
              "      <td>11,047.0</td>\n",
              "      <td>10,784.1</td>\n",
              "      <td>10,222.5</td>\n",
              "      <td>322.5</td>\n",
              "      <td>68,778.0</td>\n",
              "      <td>13.3</td>\n",
              "      <td>35.9</td>\n",
              "      <td>69.3</td>\n",
              "      <td>0.0</td>\n",
              "    </tr>\n",
              "    <tr>\n",
              "      <th>std</th>\n",
              "      <td>7,348.4</td>\n",
              "      <td>7,090.3</td>\n",
              "      <td>7,022.7</td>\n",
              "      <td>208.6</td>\n",
              "      <td>64,218.7</td>\n",
              "      <td>6.7</td>\n",
              "      <td>22.0</td>\n",
              "      <td>44.0</td>\n",
              "      <td>0.2</td>\n",
              "    </tr>\n",
              "    <tr>\n",
              "      <th>min</th>\n",
              "      <td>500.0</td>\n",
              "      <td>500.0</td>\n",
              "      <td>0.0</td>\n",
              "      <td>15.7</td>\n",
              "      <td>4,000.0</td>\n",
              "      <td>0.0</td>\n",
              "      <td>0.0</td>\n",
              "      <td>0.0</td>\n",
              "      <td>0.0</td>\n",
              "    </tr>\n",
              "    <tr>\n",
              "      <th>25%</th>\n",
              "      <td>5,300.0</td>\n",
              "      <td>5,200.0</td>\n",
              "      <td>5,000.0</td>\n",
              "      <td>165.7</td>\n",
              "      <td>40,000.0</td>\n",
              "      <td>8.1</td>\n",
              "      <td>18.0</td>\n",
              "      <td>19.8</td>\n",
              "      <td>0.0</td>\n",
              "    </tr>\n",
              "    <tr>\n",
              "      <th>50%</th>\n",
              "      <td>9,600.0</td>\n",
              "      <td>9,550.0</td>\n",
              "      <td>8,733.4</td>\n",
              "      <td>277.9</td>\n",
              "      <td>58,868.0</td>\n",
              "      <td>13.4</td>\n",
              "      <td>34.0</td>\n",
              "      <td>90.0</td>\n",
              "      <td>0.0</td>\n",
              "    </tr>\n",
              "    <tr>\n",
              "      <th>75%</th>\n",
              "      <td>15,000.0</td>\n",
              "      <td>15,000.0</td>\n",
              "      <td>14,000.0</td>\n",
              "      <td>425.6</td>\n",
              "      <td>82,000.0</td>\n",
              "      <td>18.6</td>\n",
              "      <td>52.0</td>\n",
              "      <td>104.0</td>\n",
              "      <td>0.0</td>\n",
              "    </tr>\n",
              "    <tr>\n",
              "      <th>max</th>\n",
              "      <td>35,000.0</td>\n",
              "      <td>35,000.0</td>\n",
              "      <td>35,000.0</td>\n",
              "      <td>1,305.2</td>\n",
              "      <td>6,000,000.0</td>\n",
              "      <td>30.0</td>\n",
              "      <td>120.0</td>\n",
              "      <td>129.0</td>\n",
              "      <td>2.0</td>\n",
              "    </tr>\n",
              "  </tbody>\n",
              "</table>\n",
              "</div>"
            ],
            "text/plain": [
              "       loan_amnt  funded_amnt  ...  mths_since_last_record  pub_rec_bankruptcies\n",
              "count   38,577.0     38,577.0  ...                 2,740.0              37,880.0\n",
              "mean    11,047.0     10,784.1  ...                    69.3                   0.0\n",
              "std      7,348.4      7,090.3  ...                    44.0                   0.2\n",
              "min        500.0        500.0  ...                     0.0                   0.0\n",
              "25%      5,300.0      5,200.0  ...                    19.8                   0.0\n",
              "50%      9,600.0      9,550.0  ...                    90.0                   0.0\n",
              "75%     15,000.0     15,000.0  ...                   104.0                   0.0\n",
              "max     35,000.0     35,000.0  ...                   129.0                   2.0\n",
              "\n",
              "[8 rows x 9 columns]"
            ]
          },
          "metadata": {},
          "execution_count": 41
        }
      ]
    },
    {
      "cell_type": "code",
      "metadata": {
        "colab": {
          "base_uri": "https://localhost:8080/"
        },
        "id": "fbzj_s3ijV3Q",
        "outputId": "e2dbc356-9a11-4a1a-ee2a-c672b9311d3a"
      },
      "source": [
        "loan.grade.unique()"
      ],
      "execution_count": 42,
      "outputs": [
        {
          "output_type": "execute_result",
          "data": {
            "text/plain": [
              "array(['B', 'C', 'A', 'E', 'F', 'D', 'G'], dtype=object)"
            ]
          },
          "metadata": {},
          "execution_count": 42
        }
      ]
    },
    {
      "cell_type": "code",
      "metadata": {
        "colab": {
          "base_uri": "https://localhost:8080/"
        },
        "id": "HS7F3rprjV3Q",
        "outputId": "ac0f1dfe-d725-4004-9971-a1a10b7c54be"
      },
      "source": [
        "loan.sub_grade.unique()"
      ],
      "execution_count": 43,
      "outputs": [
        {
          "output_type": "execute_result",
          "data": {
            "text/plain": [
              "array(['B2', 'C4', 'C5', 'C1', 'A4', 'E1', 'F2', 'B5', 'C3', 'B1', 'D1',\n",
              "       'A1', 'B3', 'B4', 'C2', 'D2', 'A3', 'A5', 'D5', 'A2', 'E4', 'D3',\n",
              "       'D4', 'F3', 'E3', 'F1', 'E5', 'G4', 'E2', 'G2', 'G1', 'F5', 'F4',\n",
              "       'G5', 'G3'], dtype=object)"
            ]
          },
          "metadata": {},
          "execution_count": 43
        }
      ]
    },
    {
      "cell_type": "code",
      "metadata": {
        "id": "D1exb-1NjV3Q"
      },
      "source": [
        "# By looking at describe results - \"loan_amnt\", \"funded_amnt\", \"funded_amnt_inv\" - all looks similar\n",
        "# sub-grade looks not required for analysis, as we have grade variable \n",
        "not_required3 = [\"sub_grade\",\"funded_amnt\", \"funded_amnt_inv\" ]\n",
        "loan = loan.loc[:,~loan.columns.isin(not_required3)]"
      ],
      "execution_count": 44,
      "outputs": []
    },
    {
      "cell_type": "code",
      "metadata": {
        "colab": {
          "base_uri": "https://localhost:8080/"
        },
        "id": "rYtaZFH4jV3Q",
        "outputId": "0f78aea4-5320-4ecf-cbce-500306d5c236"
      },
      "source": [
        "loan.shape"
      ],
      "execution_count": 45,
      "outputs": [
        {
          "output_type": "execute_result",
          "data": {
            "text/plain": [
              "(38577, 17)"
            ]
          },
          "metadata": {},
          "execution_count": 45
        }
      ]
    },
    {
      "cell_type": "code",
      "metadata": {
        "colab": {
          "base_uri": "https://localhost:8080/",
          "height": 118
        },
        "id": "qpESL4UNh2bc",
        "outputId": "b16aba6b-b8ac-40dd-ef94-994fac260438"
      },
      "source": [
        "loan.head(1)"
      ],
      "execution_count": 46,
      "outputs": [
        {
          "output_type": "execute_result",
          "data": {
            "text/html": [
              "<div>\n",
              "<style scoped>\n",
              "    .dataframe tbody tr th:only-of-type {\n",
              "        vertical-align: middle;\n",
              "    }\n",
              "\n",
              "    .dataframe tbody tr th {\n",
              "        vertical-align: top;\n",
              "    }\n",
              "\n",
              "    .dataframe thead th {\n",
              "        text-align: right;\n",
              "    }\n",
              "</style>\n",
              "<table border=\"1\" class=\"dataframe\">\n",
              "  <thead>\n",
              "    <tr style=\"text-align: right;\">\n",
              "      <th></th>\n",
              "      <th>loan_amnt</th>\n",
              "      <th>term</th>\n",
              "      <th>int_rate</th>\n",
              "      <th>installment</th>\n",
              "      <th>grade</th>\n",
              "      <th>home_ownership</th>\n",
              "      <th>annual_inc</th>\n",
              "      <th>verification_status</th>\n",
              "      <th>issue_d</th>\n",
              "      <th>loan_status</th>\n",
              "      <th>purpose</th>\n",
              "      <th>addr_state</th>\n",
              "      <th>dti</th>\n",
              "      <th>mths_since_last_delinq</th>\n",
              "      <th>mths_since_last_record</th>\n",
              "      <th>next_pymnt_d</th>\n",
              "      <th>pub_rec_bankruptcies</th>\n",
              "    </tr>\n",
              "  </thead>\n",
              "  <tbody>\n",
              "    <tr>\n",
              "      <th>0</th>\n",
              "      <td>5000</td>\n",
              "      <td>36 months</td>\n",
              "      <td>10.65%</td>\n",
              "      <td>162.9</td>\n",
              "      <td>B</td>\n",
              "      <td>RENT</td>\n",
              "      <td>24,000.0</td>\n",
              "      <td>Verified</td>\n",
              "      <td>Dec-11</td>\n",
              "      <td>Fully Paid</td>\n",
              "      <td>credit_card</td>\n",
              "      <td>AZ</td>\n",
              "      <td>27.6</td>\n",
              "      <td>nan</td>\n",
              "      <td>nan</td>\n",
              "      <td>NaN</td>\n",
              "      <td>0.0</td>\n",
              "    </tr>\n",
              "  </tbody>\n",
              "</table>\n",
              "</div>"
            ],
            "text/plain": [
              "   loan_amnt        term  ... next_pymnt_d  pub_rec_bankruptcies\n",
              "0       5000   36 months  ...          NaN                   0.0\n",
              "\n",
              "[1 rows x 17 columns]"
            ]
          },
          "metadata": {},
          "execution_count": 46
        }
      ]
    },
    {
      "cell_type": "code",
      "metadata": {
        "id": "paTzRbRUtH_I"
      },
      "source": [
        "# loan.emp_title.value_counts()\n"
      ],
      "execution_count": 47,
      "outputs": []
    },
    {
      "cell_type": "code",
      "metadata": {
        "id": "DDVWCzxMjV3Q"
      },
      "source": [
        "# loan.emp_length.fillna('0',inplace=True)\n",
        "# loan['emp_length']=loan.emp_length.str.extract('(\\d+)')\n",
        "# loan.head(2)\n",
        "# loan.emp_length.value_counts()"
      ],
      "execution_count": 48,
      "outputs": []
    },
    {
      "cell_type": "markdown",
      "metadata": {
        "id": "5suSXhJkvNZw"
      },
      "source": [
        "##Task 3: Univariate Analysis"
      ]
    },
    {
      "cell_type": "markdown",
      "metadata": {
        "id": "91j5UNDrz_a_"
      },
      "source": [
        "Task- 3.1 : Variable Transformation"
      ]
    },
    {
      "cell_type": "markdown",
      "metadata": {
        "id": "FL8DyxPw2PCW"
      },
      "source": [
        "Interest rate has % symbol with values and is stored as object. To perform numerical analysis we need to convert this to float"
      ]
    },
    {
      "cell_type": "code",
      "metadata": {
        "scrolled": true,
        "id": "0tGw-v8pjV3P",
        "colab": {
          "base_uri": "https://localhost:8080/"
        },
        "outputId": "6a8641de-20f6-4c57-baa9-a12831c201cd"
      },
      "source": [
        "loan['int_rate'].describe()"
      ],
      "execution_count": 49,
      "outputs": [
        {
          "output_type": "execute_result",
          "data": {
            "text/plain": [
              "count      38577\n",
              "unique       370\n",
              "top       10.99%\n",
              "freq         913\n",
              "Name: int_rate, dtype: object"
            ]
          },
          "metadata": {},
          "execution_count": 49
        }
      ]
    },
    {
      "cell_type": "code",
      "metadata": {
        "id": "x5-W4LnP9Gc9",
        "colab": {
          "base_uri": "https://localhost:8080/"
        },
        "outputId": "3286df00-c22d-42d8-d696-2cc4e2548ecf"
      },
      "source": [
        "loan.shape"
      ],
      "execution_count": 50,
      "outputs": [
        {
          "output_type": "execute_result",
          "data": {
            "text/plain": [
              "(38577, 17)"
            ]
          },
          "metadata": {},
          "execution_count": 50
        }
      ]
    },
    {
      "cell_type": "code",
      "metadata": {
        "id": "AiNMRE0DjV3P"
      },
      "source": [
        "# loan['int_rate'] = loan['int_rate'].str.rstrip('%')\n",
        "# convert it to float\n",
        "loan['int_rate'] = loan['int_rate'].str.strip('%').astype('float')\n"
      ],
      "execution_count": 51,
      "outputs": []
    },
    {
      "cell_type": "code",
      "metadata": {
        "id": "twwc8wopjV3P",
        "colab": {
          "base_uri": "https://localhost:8080/",
          "height": 118
        },
        "outputId": "a3d2e0ab-2408-4656-8631-16e2518b84fd"
      },
      "source": [
        "loan.head(1)"
      ],
      "execution_count": 52,
      "outputs": [
        {
          "output_type": "execute_result",
          "data": {
            "text/html": [
              "<div>\n",
              "<style scoped>\n",
              "    .dataframe tbody tr th:only-of-type {\n",
              "        vertical-align: middle;\n",
              "    }\n",
              "\n",
              "    .dataframe tbody tr th {\n",
              "        vertical-align: top;\n",
              "    }\n",
              "\n",
              "    .dataframe thead th {\n",
              "        text-align: right;\n",
              "    }\n",
              "</style>\n",
              "<table border=\"1\" class=\"dataframe\">\n",
              "  <thead>\n",
              "    <tr style=\"text-align: right;\">\n",
              "      <th></th>\n",
              "      <th>loan_amnt</th>\n",
              "      <th>term</th>\n",
              "      <th>int_rate</th>\n",
              "      <th>installment</th>\n",
              "      <th>grade</th>\n",
              "      <th>home_ownership</th>\n",
              "      <th>annual_inc</th>\n",
              "      <th>verification_status</th>\n",
              "      <th>issue_d</th>\n",
              "      <th>loan_status</th>\n",
              "      <th>purpose</th>\n",
              "      <th>addr_state</th>\n",
              "      <th>dti</th>\n",
              "      <th>mths_since_last_delinq</th>\n",
              "      <th>mths_since_last_record</th>\n",
              "      <th>next_pymnt_d</th>\n",
              "      <th>pub_rec_bankruptcies</th>\n",
              "    </tr>\n",
              "  </thead>\n",
              "  <tbody>\n",
              "    <tr>\n",
              "      <th>0</th>\n",
              "      <td>5000</td>\n",
              "      <td>36 months</td>\n",
              "      <td>10.7</td>\n",
              "      <td>162.9</td>\n",
              "      <td>B</td>\n",
              "      <td>RENT</td>\n",
              "      <td>24,000.0</td>\n",
              "      <td>Verified</td>\n",
              "      <td>Dec-11</td>\n",
              "      <td>Fully Paid</td>\n",
              "      <td>credit_card</td>\n",
              "      <td>AZ</td>\n",
              "      <td>27.6</td>\n",
              "      <td>nan</td>\n",
              "      <td>nan</td>\n",
              "      <td>NaN</td>\n",
              "      <td>0.0</td>\n",
              "    </tr>\n",
              "  </tbody>\n",
              "</table>\n",
              "</div>"
            ],
            "text/plain": [
              "   loan_amnt        term  ...  next_pymnt_d  pub_rec_bankruptcies\n",
              "0       5000   36 months  ...           NaN                   0.0\n",
              "\n",
              "[1 rows x 17 columns]"
            ]
          },
          "metadata": {},
          "execution_count": 52
        }
      ]
    },
    {
      "cell_type": "markdown",
      "metadata": {
        "id": "Rd1ABrrf1B07"
      },
      "source": [
        "#### Task - 3.2 : Derive new columns from existing\n"
      ]
    },
    {
      "cell_type": "code",
      "metadata": {
        "colab": {
          "base_uri": "https://localhost:8080/",
          "height": 118
        },
        "id": "w0pOW8YJ1byf",
        "outputId": "75bcc40b-4cd0-4a8d-d138-104184c1183d"
      },
      "source": [
        "loan.issue_d = pd.to_datetime(loan.issue_d, format='%b-%y')\n",
        "loan['year']=loan['issue_d'].dt.year\n",
        "loan['month']=loan['issue_d'].dt.month\n",
        "\n",
        "loan.head(1)\n"
      ],
      "execution_count": 53,
      "outputs": [
        {
          "output_type": "execute_result",
          "data": {
            "text/html": [
              "<div>\n",
              "<style scoped>\n",
              "    .dataframe tbody tr th:only-of-type {\n",
              "        vertical-align: middle;\n",
              "    }\n",
              "\n",
              "    .dataframe tbody tr th {\n",
              "        vertical-align: top;\n",
              "    }\n",
              "\n",
              "    .dataframe thead th {\n",
              "        text-align: right;\n",
              "    }\n",
              "</style>\n",
              "<table border=\"1\" class=\"dataframe\">\n",
              "  <thead>\n",
              "    <tr style=\"text-align: right;\">\n",
              "      <th></th>\n",
              "      <th>loan_amnt</th>\n",
              "      <th>term</th>\n",
              "      <th>int_rate</th>\n",
              "      <th>installment</th>\n",
              "      <th>grade</th>\n",
              "      <th>home_ownership</th>\n",
              "      <th>annual_inc</th>\n",
              "      <th>verification_status</th>\n",
              "      <th>issue_d</th>\n",
              "      <th>loan_status</th>\n",
              "      <th>purpose</th>\n",
              "      <th>addr_state</th>\n",
              "      <th>dti</th>\n",
              "      <th>mths_since_last_delinq</th>\n",
              "      <th>mths_since_last_record</th>\n",
              "      <th>next_pymnt_d</th>\n",
              "      <th>pub_rec_bankruptcies</th>\n",
              "      <th>year</th>\n",
              "      <th>month</th>\n",
              "    </tr>\n",
              "  </thead>\n",
              "  <tbody>\n",
              "    <tr>\n",
              "      <th>0</th>\n",
              "      <td>5000</td>\n",
              "      <td>36 months</td>\n",
              "      <td>10.7</td>\n",
              "      <td>162.9</td>\n",
              "      <td>B</td>\n",
              "      <td>RENT</td>\n",
              "      <td>24,000.0</td>\n",
              "      <td>Verified</td>\n",
              "      <td>2011-12-01</td>\n",
              "      <td>Fully Paid</td>\n",
              "      <td>credit_card</td>\n",
              "      <td>AZ</td>\n",
              "      <td>27.6</td>\n",
              "      <td>nan</td>\n",
              "      <td>nan</td>\n",
              "      <td>NaN</td>\n",
              "      <td>0.0</td>\n",
              "      <td>2011</td>\n",
              "      <td>12</td>\n",
              "    </tr>\n",
              "  </tbody>\n",
              "</table>\n",
              "</div>"
            ],
            "text/plain": [
              "   loan_amnt        term  int_rate  ...  pub_rec_bankruptcies  year month\n",
              "0       5000   36 months      10.7  ...                   0.0  2011    12\n",
              "\n",
              "[1 rows x 19 columns]"
            ]
          },
          "metadata": {},
          "execution_count": 53
        }
      ]
    },
    {
      "cell_type": "markdown",
      "metadata": {
        "id": "XOc093Ld2iKS"
      },
      "source": [
        "## Task-4: Variable binning"
      ]
    },
    {
      "cell_type": "markdown",
      "metadata": {
        "id": "rXrC6zen1_hQ"
      },
      "source": [
        "#### Approach - 1 : For bucketing of continous variable, look at boxplot. And find lower threshold and upper threshold to subset dataset, so that we can ignore outliers and have normalized data"
      ]
    },
    {
      "cell_type": "code",
      "metadata": {
        "colab": {
          "base_uri": "https://localhost:8080/"
        },
        "id": "rjY8g03d6XMb",
        "outputId": "271a4c68-c2db-4800-c95f-8082ecff3a59"
      },
      "source": [
        "loan.loan_amnt.describe()"
      ],
      "execution_count": 54,
      "outputs": [
        {
          "output_type": "execute_result",
          "data": {
            "text/plain": [
              "count   38,577.0\n",
              "mean    11,047.0\n",
              "std      7,348.4\n",
              "min        500.0\n",
              "25%      5,300.0\n",
              "50%      9,600.0\n",
              "75%     15,000.0\n",
              "max     35,000.0\n",
              "Name: loan_amnt, dtype: float64"
            ]
          },
          "metadata": {},
          "execution_count": 54
        }
      ]
    },
    {
      "cell_type": "code",
      "metadata": {
        "colab": {
          "base_uri": "https://localhost:8080/",
          "height": 352
        },
        "id": "lzTbLTDM18cu",
        "outputId": "f901b11b-6d03-477b-ee53-4f5d7ddfabc9"
      },
      "source": [
        "sns.boxplot(loan.loan_amnt)"
      ],
      "execution_count": 55,
      "outputs": [
        {
          "output_type": "stream",
          "name": "stderr",
          "text": [
            "/usr/local/lib/python3.7/dist-packages/seaborn/_decorators.py:43: FutureWarning: Pass the following variable as a keyword arg: x. From version 0.12, the only valid positional argument will be `data`, and passing other arguments without an explicit keyword will result in an error or misinterpretation.\n",
            "  FutureWarning\n"
          ]
        },
        {
          "output_type": "execute_result",
          "data": {
            "text/plain": [
              "<matplotlib.axes._subplots.AxesSubplot at 0x7f8a13a74e10>"
            ]
          },
          "metadata": {},
          "execution_count": 55
        },
        {
          "output_type": "display_data",
          "data": {
            "image/png": "[encoded data removed]",
            "text/plain": [
              "<Figure size 432x288 with 1 Axes>"
            ]
          },
          "metadata": {
            "needs_background": "light"
          }
        }
      ]
    },
    {
      "cell_type": "markdown",
      "metadata": {
        "id": "8rsgP6W55OIV"
      },
      "source": [
        "Calculate interquartile range (IQR)=Q3-Q1. Calculate lower boundary LB = Q1-(1.5*IQR) Calculate upper boundary UB = Q3+(1.5*IQR)\n"
      ]
    },
    {
      "cell_type": "code",
      "metadata": {
        "colab": {
          "base_uri": "https://localhost:8080/"
        },
        "id": "7eRY8AwE3VVT",
        "outputId": "e5fa40c0-ddf0-4148-f635-fa4e3756ef36"
      },
      "source": [
        "# First quartile (Q1)\n",
        "Q1 = np.percentile(loan['loan_amnt'], 25, interpolation = 'midpoint')\n",
        "  \n",
        "# # Third quartile (Q3)\n",
        "Q3 = np.percentile(loan['loan_amnt'], 75, interpolation = 'midpoint')\n",
        "  \n",
        "# # Interquaritle range (IQR)\n",
        "# IQR = Q3 - Q1\n",
        "  \n",
        "# print(IQR)\n",
        "\n",
        "# Import stats from scipy library\n",
        "from scipy import stats\n",
        "\n",
        "# Interquartile range (IQR)\n",
        "IQR = stats.iqr(loan['loan_amnt'], interpolation = 'midpoint')\n",
        "  \n",
        "print(IQR)\n",
        "\n",
        "LB = Q1-(1.5*IQR)\n",
        "UB = Q3+(1.5*IQR)\n",
        "print(LB)\n",
        "print(UB)\n",
        "\n"
      ],
      "execution_count": 56,
      "outputs": [
        {
          "output_type": "stream",
          "name": "stdout",
          "text": [
            "9700.0\n",
            "-9250.0\n",
            "29550.0\n"
          ]
        }
      ]
    },
    {
      "cell_type": "markdown",
      "metadata": {
        "id": "TVNDDeqa5DO-"
      },
      "source": [
        "Below functions can be used for variable binning of continous variables and to look at the distribution of variables \n"
      ]
    },
    {
      "cell_type": "code",
      "metadata": {
        "id": "JzMSXDHq43Ku"
      },
      "source": [
        "def PercentileCut (*, data, column, trailer=''):\n",
        "    \"\"\"\n",
        "        Parameters:\n",
        "            data : defaulted to 'loan'\n",
        "            column : this is the continuous numeric field which has to be binned to its percentiles\n",
        "            trailer : defaulted to blank, this will be added to the end of the percentile values\n",
        "                      like '%' for interest rate related fields\n",
        "        Returns:\n",
        "            None\n",
        "            It creates a new column in the data with a suffix '_p' and this contains the newly created category\n",
        "    \"\"\"\n",
        "    new_column = column + '_p'\n",
        "    labels = ['Lowest ','Lower ','Medium ','Higher ','Highest ']\n",
        "    labels = [labels[p] + '(' +\n",
        "              str(round(np.nanpercentile(data[column], p * 20),2)) +\n",
        "              trailer + ' - ' +\n",
        "              str(round(np.nanpercentile(data[column], (p+1) * 20),2)) +\n",
        "              trailer + ')'\n",
        "              for p in range(5)]\n",
        "    data[new_column] = pd.qcut(data[column], q=5, labels=labels)"
      ],
      "execution_count": 57,
      "outputs": []
    },
    {
      "cell_type": "code",
      "metadata": {
        "id": "D260Bv5j5wIP"
      },
      "source": [
        "def distribution_plot_continous(data,column):\n",
        "  sns.distplot(data[column])\n",
        "  plt.axvline(x=np.mean(data[column]),c='red',ls='--',label='mean')\n",
        "  plt.axvline(x=np.percentile(data[column],25),c='green',ls='--')\n",
        "  plt.axvline(x=np.percentile(data[column],75),c='green',ls='--')\n",
        "  #to show labels\n",
        "  plt.legend()"
      ],
      "execution_count": 58,
      "outputs": []
    },
    {
      "cell_type": "markdown",
      "metadata": {
        "id": "nCHMuWdM5h0T"
      },
      "source": [
        "####Question 1: What does the distribution of Loan amount look like? Is it skewed?"
      ]
    },
    {
      "cell_type": "markdown",
      "metadata": {
        "id": "hh_aJSJ35cfw"
      },
      "source": [
        "Variable distribution and bucketing for - Loan Amount\n",
        "\n",
        "Red line shows mean, Green lines shows 25 and 75 percentile "
      ]
    },
    {
      "cell_type": "code",
      "metadata": {
        "id": "IEG5b5iUt9qT",
        "colab": {
          "base_uri": "https://localhost:8080/",
          "height": 335
        },
        "outputId": "4ace5048-85dc-425f-eb8e-d4ae747cfc03"
      },
      "source": [
        "distribution_plot_continous(data=loan,column='loan_amnt')"
      ],
      "execution_count": 59,
      "outputs": [
        {
          "output_type": "stream",
          "name": "stderr",
          "text": [
            "/usr/local/lib/python3.7/dist-packages/seaborn/distributions.py:2619: FutureWarning: `distplot` is a deprecated function and will be removed in a future version. Please adapt your code to use either `displot` (a figure-level function with similar flexibility) or `histplot` (an axes-level function for histograms).\n",
            "  warnings.warn(msg, FutureWarning)\n"
          ]
        },
        {
          "output_type": "display_data",
          "data": {
            "image/png": "[encoded data removed]",
            "text/plain": [
              "<Figure size 432x288 with 1 Axes>"
            ]
          },
          "metadata": {
            "needs_background": "light"
          }
        }
      ]
    },
    {
      "cell_type": "code",
      "metadata": {
        "id": "U3k6TM-b2f56"
      },
      "source": [
        "PercentileCut(data=loan,column='loan_amnt')"
      ],
      "execution_count": 60,
      "outputs": []
    },
    {
      "cell_type": "code",
      "metadata": {
        "colab": {
          "base_uri": "https://localhost:8080/"
        },
        "id": "H4BKe8gPyxPP",
        "outputId": "4ddf9631-3dce-4f05-af14-751c545a9fec"
      },
      "source": [
        "100*(loan['loan_amnt_p'].value_counts(normalize=True))"
      ],
      "execution_count": 61,
      "outputs": [
        {
          "output_type": "execute_result",
          "data": {
            "text/plain": [
              "Lowest (500.0 - 5000.0)       24.6\n",
              "Medium (7750.0 - 11200.0)     20.2\n",
              "Higher (11200.0 - 16000.0)    20.1\n",
              "Highest (16000.0 - 35000.0)   19.6\n",
              "Lower (5000.0 - 7750.0)       15.6\n",
              "Name: loan_amnt_p, dtype: float64"
            ]
          },
          "metadata": {},
          "execution_count": 61
        }
      ]
    },
    {
      "cell_type": "code",
      "metadata": {
        "colab": {
          "base_uri": "https://localhost:8080/",
          "height": 511
        },
        "id": "iHpnzAHX9or-",
        "outputId": "2033496c-0ac8-44f6-be99-881b99a1e900"
      },
      "source": [
        "plt.figure(figsize=(16, 14))\n",
        "plt.subplot(2, 1, 1)\n",
        "p = sns.barplot(x='loan_amnt_p', y='loan_amnt', data=loan, estimator=np.count_nonzero)\n",
        "p.set_ylabel('Loan Amount (USD)')\n",
        "p.set_xticklabels(p.get_xticklabels(),rotation=30)\n",
        "p.set_xlabel('Loan Amount Buckets')\n",
        "plt.title('Loan amount frequency')"
      ],
      "execution_count": 62,
      "outputs": [
        {
          "output_type": "execute_result",
          "data": {
            "text/plain": [
              "Text(0.5, 1.0, 'Loan amount frequency')"
            ]
          },
          "metadata": {},
          "execution_count": 62
        },
        {
          "output_type": "display_data",
          "data": {
            "image/png": "[encoded data removed]",
            "text/plain": [
              "<Figure size 1152x1008 with 1 Axes>"
            ]
          },
          "metadata": {
            "needs_background": "light"
          }
        }
      ]
    },
    {
      "cell_type": "markdown",
      "metadata": {
        "id": "ijv5I4wW3RAL"
      },
      "source": [
        "By looking at distribution we get fair idea that we have right skewed distribution of Loan amount. We can subset dataset by removing those loans with 29,550 or greater amount"
      ]
    },
    {
      "cell_type": "code",
      "metadata": {
        "colab": {
          "base_uri": "https://localhost:8080/",
          "height": 335
        },
        "id": "k3b-JM9tLfVz",
        "outputId": "dd106ce1-39cd-49f6-8170-969cf03c96b5"
      },
      "source": [
        "df=loan[loan['loan_amnt']<=29550]\n",
        "distribution_plot_continous(data=df,column='loan_amnt')"
      ],
      "execution_count": 63,
      "outputs": [
        {
          "output_type": "stream",
          "name": "stderr",
          "text": [
            "/usr/local/lib/python3.7/dist-packages/seaborn/distributions.py:2619: FutureWarning: `distplot` is a deprecated function and will be removed in a future version. Please adapt your code to use either `displot` (a figure-level function with similar flexibility) or `histplot` (an axes-level function for histograms).\n",
            "  warnings.warn(msg, FutureWarning)\n"
          ]
        },
        {
          "output_type": "display_data",
          "data": {
            "image/png": "[encoded data removed]",
            "text/plain": [
              "<Figure size 432x288 with 1 Axes>"
            ]
          },
          "metadata": {
            "needs_background": "light"
          }
        }
      ]
    },
    {
      "cell_type": "markdown",
      "metadata": {
        "id": "FUuPQA7hwMyk"
      },
      "source": [
        "####Question 2: What does the distribution of annual income of borrowers looks like? Is it skewed?"
      ]
    },
    {
      "cell_type": "code",
      "metadata": {
        "colab": {
          "base_uri": "https://localhost:8080/"
        },
        "id": "UmZ17TEJ7t8r",
        "outputId": "d36705da-f133-4955-a2f3-e45b88fc1d5f"
      },
      "source": [
        "# First quartile (Q1)\n",
        "Q1 = np.percentile(loan['annual_inc'], 25, interpolation = 'midpoint')\n",
        "  \n",
        "# # Third quartile (Q3)\n",
        "Q3 = np.percentile(loan['annual_inc'], 75, interpolation = 'midpoint')\n",
        "  \n",
        "# # Interquaritle range (IQR)\n",
        "# IQR = Q3 - Q1\n",
        "  \n",
        "# print(IQR)\n",
        "\n",
        "# Import stats from scipy library\n",
        "from scipy import stats\n",
        "\n",
        "# Interquartile range (IQR)\n",
        "IQR = stats.iqr(loan['annual_inc'], interpolation = 'midpoint')\n",
        "  \n",
        "print(IQR)\n",
        "\n",
        "LB = Q1-(1.5*IQR)\n",
        "UB = Q3+(1.5*IQR)\n",
        "print(LB)\n",
        "print(UB)"
      ],
      "execution_count": 64,
      "outputs": [
        {
          "output_type": "stream",
          "name": "stdout",
          "text": [
            "42000.0\n",
            "-23000.0\n",
            "145000.0\n"
          ]
        }
      ]
    },
    {
      "cell_type": "code",
      "metadata": {
        "colab": {
          "base_uri": "https://localhost:8080/",
          "height": 346
        },
        "id": "fN7BZMusDVrC",
        "outputId": "ad1627cf-f251-4d3b-acef-3362c042c803"
      },
      "source": [
        "distribution_plot_continous(data=loan,column='annual_inc')\n",
        "PercentileCut(data=loan,column='annual_inc')"
      ],
      "execution_count": 65,
      "outputs": [
        {
          "output_type": "stream",
          "name": "stderr",
          "text": [
            "/usr/local/lib/python3.7/dist-packages/seaborn/distributions.py:2619: FutureWarning: `distplot` is a deprecated function and will be removed in a future version. Please adapt your code to use either `displot` (a figure-level function with similar flexibility) or `histplot` (an axes-level function for histograms).\n",
            "  warnings.warn(msg, FutureWarning)\n"
          ]
        },
        {
          "output_type": "display_data",
          "data": {
            "image/png": "[encoded data removed]",
            "text/plain": [
              "<Figure size 432x288 with 1 Axes>"
            ]
          },
          "metadata": {
            "needs_background": "light"
          }
        }
      ]
    },
    {
      "cell_type": "code",
      "metadata": {
        "colab": {
          "base_uri": "https://localhost:8080/"
        },
        "id": "CbKNCI_qF53p",
        "outputId": "ae282da6-4840-48dd-8b49-d92ae80f338c"
      },
      "source": [
        "100*(loan['annual_inc_p'].value_counts(normalize=True))"
      ],
      "execution_count": 66,
      "outputs": [
        {
          "output_type": "execute_result",
          "data": {
            "text/plain": [
              "Higher (65004.0 - 90000.0)      20.6\n",
              "Lower (37196.16 - 50004.0)      20.1\n",
              "Lowest (4000.0 - 37196.16)      20.0\n",
              "Medium (50004.0 - 65004.0)      19.9\n",
              "Highest (90000.0 - 6000000.0)   19.4\n",
              "Name: annual_inc_p, dtype: float64"
            ]
          },
          "metadata": {},
          "execution_count": 66
        }
      ]
    },
    {
      "cell_type": "code",
      "metadata": {
        "colab": {
          "base_uri": "https://localhost:8080/",
          "height": 517
        },
        "id": "grBiMwFAEegl",
        "outputId": "139295b6-5acd-418e-dc7d-11b1579387c7"
      },
      "source": [
        "plt.figure(figsize=(16, 14))\n",
        "plt.subplot(2, 1, 1)\n",
        "p = sns.barplot(x='annual_inc_p', y='annual_inc', data=loan, estimator=np.count_nonzero)\n",
        "p.set_ylabel('Annual Income (USD)')\n",
        "p.set_xticklabels(p.get_xticklabels(),rotation=30)\n",
        "p.set_xlabel('Annual Income Buckets')\n",
        "plt.title('Annual Income frequency')"
      ],
      "execution_count": 67,
      "outputs": [
        {
          "output_type": "execute_result",
          "data": {
            "text/plain": [
              "Text(0.5, 1.0, 'Annual Income frequency')"
            ]
          },
          "metadata": {},
          "execution_count": 67
        },
        {
          "output_type": "display_data",
          "data": {
            "image/png": "[encoded data removed]",
            "text/plain": [
              "<Figure size 1152x1008 with 1 Axes>"
            ]
          },
          "metadata": {
            "needs_background": "light"
          }
        }
      ]
    },
    {
      "cell_type": "code",
      "metadata": {
        "colab": {
          "base_uri": "https://localhost:8080/",
          "height": 346
        },
        "id": "G7NgUGKx8zBx",
        "outputId": "476b37f9-d8b2-49e6-b461-e1e7e29b7b6a"
      },
      "source": [
        "df=loan[loan['annual_inc']<=145000]\n",
        "distribution_plot_continous(data=df,column='annual_inc')"
      ],
      "execution_count": 68,
      "outputs": [
        {
          "output_type": "stream",
          "name": "stderr",
          "text": [
            "/usr/local/lib/python3.7/dist-packages/seaborn/distributions.py:2619: FutureWarning: `distplot` is a deprecated function and will be removed in a future version. Please adapt your code to use either `displot` (a figure-level function with similar flexibility) or `histplot` (an axes-level function for histograms).\n",
            "  warnings.warn(msg, FutureWarning)\n"
          ]
        },
        {
          "output_type": "display_data",
          "data": {
            "image/png": "[encoded data removed]",
            "text/plain": [
              "<Figure size 432x288 with 1 Axes>"
            ]
          },
          "metadata": {
            "needs_background": "light"
          }
        }
      ]
    },
    {
      "cell_type": "code",
      "metadata": {
        "colab": {
          "base_uri": "https://localhost:8080/",
          "height": 334
        },
        "id": "ME3JjBnIP8tl",
        "outputId": "759ef912-bff1-4d7f-aed8-bf37704e338b"
      },
      "source": [
        "distribution_plot_continous(data=loan,column='installment')"
      ],
      "execution_count": 69,
      "outputs": [
        {
          "output_type": "stream",
          "name": "stderr",
          "text": [
            "/usr/local/lib/python3.7/dist-packages/seaborn/distributions.py:2619: FutureWarning: `distplot` is a deprecated function and will be removed in a future version. Please adapt your code to use either `displot` (a figure-level function with similar flexibility) or `histplot` (an axes-level function for histograms).\n",
            "  warnings.warn(msg, FutureWarning)\n"
          ]
        },
        {
          "output_type": "display_data",
          "data": {
            "image/png": "[encoded data removed]",
            "text/plain": [
              "<Figure size 432x288 with 1 Axes>"
            ]
          },
          "metadata": {
            "needs_background": "light"
          }
        }
      ]
    },
    {
      "cell_type": "code",
      "metadata": {
        "id": "fqGcGsqrzV49"
      },
      "source": [
        ""
      ],
      "execution_count": 69,
      "outputs": []
    },
    {
      "cell_type": "markdown",
      "metadata": {
        "id": "YAMrYEyJW_5Z"
      },
      "source": [
        "#### Lets subset dataset for annual income and loan amout."
      ]
    },
    {
      "cell_type": "code",
      "metadata": {
        "id": "-tqJHbYqWuhq"
      },
      "source": [
        "# df = loan[(loan[\"annual_inc\"] <= 90000) & (loan[\"loan_amnt\"] <= 16000) ]\n",
        "\n",
        "df = loan[(loan[\"annual_inc\"] <= 145000) & (loan[\"loan_amnt\"] <= 29550) ]\n"
      ],
      "execution_count": 70,
      "outputs": []
    },
    {
      "cell_type": "markdown",
      "metadata": {
        "id": "-f3jQAvdXRlh"
      },
      "source": [
        "Let's visualize continous variables again"
      ]
    },
    {
      "cell_type": "code",
      "metadata": {
        "colab": {
          "base_uri": "https://localhost:8080/",
          "height": 346
        },
        "id": "KfCLwymXW4hu",
        "outputId": "68e15462-e8b7-4a4e-dc8c-c87a87c76a36"
      },
      "source": [
        "distribution_plot_continous(data=df,column='annual_inc')"
      ],
      "execution_count": 71,
      "outputs": [
        {
          "output_type": "stream",
          "name": "stderr",
          "text": [
            "/usr/local/lib/python3.7/dist-packages/seaborn/distributions.py:2619: FutureWarning: `distplot` is a deprecated function and will be removed in a future version. Please adapt your code to use either `displot` (a figure-level function with similar flexibility) or `histplot` (an axes-level function for histograms).\n",
            "  warnings.warn(msg, FutureWarning)\n"
          ]
        },
        {
          "output_type": "display_data",
          "data": {
            "image/png": "[encoded data removed]",
            "text/plain": [
              "<Figure size 432x288 with 1 Axes>"
            ]
          },
          "metadata": {
            "needs_background": "light"
          }
        }
      ]
    },
    {
      "cell_type": "code",
      "metadata": {
        "colab": {
          "base_uri": "https://localhost:8080/",
          "height": 335
        },
        "id": "XVqILAWgW66r",
        "outputId": "8e6aca19-f911-436a-e9ce-6553b9cef5d7"
      },
      "source": [
        "distribution_plot_continous(data=df,column='loan_amnt')"
      ],
      "execution_count": 72,
      "outputs": [
        {
          "output_type": "stream",
          "name": "stderr",
          "text": [
            "/usr/local/lib/python3.7/dist-packages/seaborn/distributions.py:2619: FutureWarning: `distplot` is a deprecated function and will be removed in a future version. Please adapt your code to use either `displot` (a figure-level function with similar flexibility) or `histplot` (an axes-level function for histograms).\n",
            "  warnings.warn(msg, FutureWarning)\n"
          ]
        },
        {
          "output_type": "display_data",
          "data": {
            "image/png": "[encoded data removed]",
            "text/plain": [
              "<Figure size 432x288 with 1 Axes>"
            ]
          },
          "metadata": {
            "needs_background": "light"
          }
        }
      ]
    },
    {
      "cell_type": "code",
      "metadata": {
        "colab": {
          "base_uri": "https://localhost:8080/",
          "height": 334
        },
        "id": "4XebYdEsXhO4",
        "outputId": "28972ee5-72b4-4281-a6e2-433e83c89ebe"
      },
      "source": [
        "distribution_plot_continous(data=df,column='installment')"
      ],
      "execution_count": 73,
      "outputs": [
        {
          "output_type": "stream",
          "name": "stderr",
          "text": [
            "/usr/local/lib/python3.7/dist-packages/seaborn/distributions.py:2619: FutureWarning: `distplot` is a deprecated function and will be removed in a future version. Please adapt your code to use either `displot` (a figure-level function with similar flexibility) or `histplot` (an axes-level function for histograms).\n",
            "  warnings.warn(msg, FutureWarning)\n"
          ]
        },
        {
          "output_type": "display_data",
          "data": {
            "image/png": "[encoded data removed]",
            "text/plain": [
              "<Figure size 432x288 with 1 Axes>"
            ]
          },
          "metadata": {
            "needs_background": "light"
          }
        }
      ]
    },
    {
      "cell_type": "code",
      "metadata": {
        "colab": {
          "base_uri": "https://localhost:8080/",
          "height": 300
        },
        "id": "D_h305sOXt2n",
        "outputId": "88ab80a4-75fb-4c56-acf9-77d5b236dcc1"
      },
      "source": [
        "df.describe()"
      ],
      "execution_count": 74,
      "outputs": [
        {
          "output_type": "execute_result",
          "data": {
            "text/html": [
              "<div>\n",
              "<style scoped>\n",
              "    .dataframe tbody tr th:only-of-type {\n",
              "        vertical-align: middle;\n",
              "    }\n",
              "\n",
              "    .dataframe tbody tr th {\n",
              "        vertical-align: top;\n",
              "    }\n",
              "\n",
              "    .dataframe thead th {\n",
              "        text-align: right;\n",
              "    }\n",
              "</style>\n",
              "<table border=\"1\" class=\"dataframe\">\n",
              "  <thead>\n",
              "    <tr style=\"text-align: right;\">\n",
              "      <th></th>\n",
              "      <th>loan_amnt</th>\n",
              "      <th>int_rate</th>\n",
              "      <th>installment</th>\n",
              "      <th>annual_inc</th>\n",
              "      <th>dti</th>\n",
              "      <th>mths_since_last_delinq</th>\n",
              "      <th>mths_since_last_record</th>\n",
              "      <th>pub_rec_bankruptcies</th>\n",
              "      <th>year</th>\n",
              "      <th>month</th>\n",
              "    </tr>\n",
              "  </thead>\n",
              "  <tbody>\n",
              "    <tr>\n",
              "      <th>count</th>\n",
              "      <td>35,983.0</td>\n",
              "      <td>35,983.0</td>\n",
              "      <td>35,983.0</td>\n",
              "      <td>35,983.0</td>\n",
              "      <td>35,983.0</td>\n",
              "      <td>12,746.0</td>\n",
              "      <td>2,633.0</td>\n",
              "      <td>35,322.0</td>\n",
              "      <td>35,983.0</td>\n",
              "      <td>35,983.0</td>\n",
              "    </tr>\n",
              "    <tr>\n",
              "      <th>mean</th>\n",
              "      <td>10,192.6</td>\n",
              "      <td>11.8</td>\n",
              "      <td>300.2</td>\n",
              "      <td>60,464.0</td>\n",
              "      <td>13.4</td>\n",
              "      <td>36.0</td>\n",
              "      <td>69.5</td>\n",
              "      <td>0.0</td>\n",
              "      <td>2,010.3</td>\n",
              "      <td>7.1</td>\n",
              "    </tr>\n",
              "    <tr>\n",
              "      <th>std</th>\n",
              "      <td>6,267.4</td>\n",
              "      <td>3.6</td>\n",
              "      <td>182.5</td>\n",
              "      <td>27,866.9</td>\n",
              "      <td>6.7</td>\n",
              "      <td>22.0</td>\n",
              "      <td>43.9</td>\n",
              "      <td>0.2</td>\n",
              "      <td>0.9</td>\n",
              "      <td>3.4</td>\n",
              "    </tr>\n",
              "    <tr>\n",
              "      <th>min</th>\n",
              "      <td>500.0</td>\n",
              "      <td>5.4</td>\n",
              "      <td>15.7</td>\n",
              "      <td>4,000.0</td>\n",
              "      <td>0.0</td>\n",
              "      <td>0.0</td>\n",
              "      <td>0.0</td>\n",
              "      <td>0.0</td>\n",
              "      <td>2,007.0</td>\n",
              "      <td>1.0</td>\n",
              "    </tr>\n",
              "    <tr>\n",
              "      <th>25%</th>\n",
              "      <td>5,000.0</td>\n",
              "      <td>8.9</td>\n",
              "      <td>161.9</td>\n",
              "      <td>40,000.0</td>\n",
              "      <td>8.3</td>\n",
              "      <td>18.0</td>\n",
              "      <td>21.0</td>\n",
              "      <td>0.0</td>\n",
              "      <td>2,010.0</td>\n",
              "      <td>4.0</td>\n",
              "    </tr>\n",
              "    <tr>\n",
              "      <th>50%</th>\n",
              "      <td>9,000.0</td>\n",
              "      <td>11.7</td>\n",
              "      <td>264.8</td>\n",
              "      <td>55,000.0</td>\n",
              "      <td>13.5</td>\n",
              "      <td>34.0</td>\n",
              "      <td>90.0</td>\n",
              "      <td>0.0</td>\n",
              "      <td>2,011.0</td>\n",
              "      <td>7.0</td>\n",
              "    </tr>\n",
              "    <tr>\n",
              "      <th>75%</th>\n",
              "      <td>14,125.0</td>\n",
              "      <td>14.3</td>\n",
              "      <td>397.6</td>\n",
              "      <td>76,000.0</td>\n",
              "      <td>18.7</td>\n",
              "      <td>52.0</td>\n",
              "      <td>104.0</td>\n",
              "      <td>0.0</td>\n",
              "      <td>2,011.0</td>\n",
              "      <td>10.0</td>\n",
              "    </tr>\n",
              "    <tr>\n",
              "      <th>max</th>\n",
              "      <td>29,500.0</td>\n",
              "      <td>24.4</td>\n",
              "      <td>1,022.9</td>\n",
              "      <td>145,000.0</td>\n",
              "      <td>30.0</td>\n",
              "      <td>120.0</td>\n",
              "      <td>129.0</td>\n",
              "      <td>2.0</td>\n",
              "      <td>2,011.0</td>\n",
              "      <td>12.0</td>\n",
              "    </tr>\n",
              "  </tbody>\n",
              "</table>\n",
              "</div>"
            ],
            "text/plain": [
              "       loan_amnt  int_rate  installment  ...  pub_rec_bankruptcies     year    month\n",
              "count   35,983.0  35,983.0     35,983.0  ...              35,322.0 35,983.0 35,983.0\n",
              "mean    10,192.6      11.8        300.2  ...                   0.0  2,010.3      7.1\n",
              "std      6,267.4       3.6        182.5  ...                   0.2      0.9      3.4\n",
              "min        500.0       5.4         15.7  ...                   0.0  2,007.0      1.0\n",
              "25%      5,000.0       8.9        161.9  ...                   0.0  2,010.0      4.0\n",
              "50%      9,000.0      11.7        264.8  ...                   0.0  2,011.0      7.0\n",
              "75%     14,125.0      14.3        397.6  ...                   0.0  2,011.0     10.0\n",
              "max     29,500.0      24.4      1,022.9  ...                   2.0  2,011.0     12.0\n",
              "\n",
              "[8 rows x 10 columns]"
            ]
          },
          "metadata": {},
          "execution_count": 74
        }
      ]
    },
    {
      "cell_type": "code",
      "metadata": {
        "colab": {
          "base_uri": "https://localhost:8080/",
          "height": 334
        },
        "id": "8qLJOybtX0P1",
        "outputId": "5724841e-e366-4711-c75e-bbba298764e5"
      },
      "source": [
        "distribution_plot_continous(data=df,column='dti')"
      ],
      "execution_count": 75,
      "outputs": [
        {
          "output_type": "stream",
          "name": "stderr",
          "text": [
            "/usr/local/lib/python3.7/dist-packages/seaborn/distributions.py:2619: FutureWarning: `distplot` is a deprecated function and will be removed in a future version. Please adapt your code to use either `displot` (a figure-level function with similar flexibility) or `histplot` (an axes-level function for histograms).\n",
            "  warnings.warn(msg, FutureWarning)\n"
          ]
        },
        {
          "output_type": "display_data",
          "data": {
            "image/png": "[encoded data removed]",
            "text/plain": [
              "<Figure size 432x288 with 1 Axes>"
            ]
          },
          "metadata": {
            "needs_background": "light"
          }
        }
      ]
    },
    {
      "cell_type": "code",
      "metadata": {
        "colab": {
          "base_uri": "https://localhost:8080/",
          "height": 335
        },
        "id": "6rfKLtLMYE41",
        "outputId": "85bb0f87-802f-4aea-ab72-9fadc7f8f64a"
      },
      "source": [
        "distribution_plot_continous(data=df,column='mths_since_last_delinq')"
      ],
      "execution_count": 76,
      "outputs": [
        {
          "output_type": "stream",
          "name": "stderr",
          "text": [
            "/usr/local/lib/python3.7/dist-packages/seaborn/distributions.py:2619: FutureWarning: `distplot` is a deprecated function and will be removed in a future version. Please adapt your code to use either `displot` (a figure-level function with similar flexibility) or `histplot` (an axes-level function for histograms).\n",
            "  warnings.warn(msg, FutureWarning)\n"
          ]
        },
        {
          "output_type": "display_data",
          "data": {
            "image/png": "[encoded data removed]",
            "text/plain": [
              "<Figure size 432x288 with 1 Axes>"
            ]
          },
          "metadata": {
            "needs_background": "light"
          }
        }
      ]
    },
    {
      "cell_type": "code",
      "metadata": {
        "colab": {
          "base_uri": "https://localhost:8080/",
          "height": 335
        },
        "id": "DFwiCgsXYsVz",
        "outputId": "a20715ad-d1d1-4c69-8419-4e0c6fc29e8c"
      },
      "source": [
        "distribution_plot_continous(data=df,column='mths_since_last_record')"
      ],
      "execution_count": 77,
      "outputs": [
        {
          "output_type": "stream",
          "name": "stderr",
          "text": [
            "/usr/local/lib/python3.7/dist-packages/seaborn/distributions.py:2619: FutureWarning: `distplot` is a deprecated function and will be removed in a future version. Please adapt your code to use either `displot` (a figure-level function with similar flexibility) or `histplot` (an axes-level function for histograms).\n",
            "  warnings.warn(msg, FutureWarning)\n"
          ]
        },
        {
          "output_type": "display_data",
          "data": {
            "image/png": "[encoded data removed]",
            "text/plain": [
              "<Figure size 432x288 with 1 Axes>"
            ]
          },
          "metadata": {
            "needs_background": "light"
          }
        }
      ]
    },
    {
      "cell_type": "code",
      "metadata": {
        "colab": {
          "base_uri": "https://localhost:8080/",
          "height": 339
        },
        "id": "BX-DeJO-YO0K",
        "outputId": "4f4197ab-b49e-41ab-b1dc-51501dcb9ca8"
      },
      "source": [
        "distribution_plot_continous(data=df,column='pub_rec_bankruptcies')"
      ],
      "execution_count": 78,
      "outputs": [
        {
          "output_type": "stream",
          "name": "stderr",
          "text": [
            "/usr/local/lib/python3.7/dist-packages/seaborn/distributions.py:2619: FutureWarning: `distplot` is a deprecated function and will be removed in a future version. Please adapt your code to use either `displot` (a figure-level function with similar flexibility) or `histplot` (an axes-level function for histograms).\n",
            "  warnings.warn(msg, FutureWarning)\n"
          ]
        },
        {
          "output_type": "display_data",
          "data": {
            "image/png": "[encoded data removed]",
            "text/plain": [
              "<Figure size 432x288 with 1 Axes>"
            ]
          },
          "metadata": {
            "needs_background": "light"
          }
        }
      ]
    },
    {
      "cell_type": "code",
      "metadata": {
        "id": "q0Yqeyp0e6sm",
        "colab": {
          "base_uri": "https://localhost:8080/",
          "height": 201
        },
        "outputId": "d6c79b08-aeec-4c93-e253-dfd99e8b372a"
      },
      "source": [
        "df.head(2)"
      ],
      "execution_count": 79,
      "outputs": [
        {
          "output_type": "execute_result",
          "data": {
            "text/html": [
              "<div>\n",
              "<style scoped>\n",
              "    .dataframe tbody tr th:only-of-type {\n",
              "        vertical-align: middle;\n",
              "    }\n",
              "\n",
              "    .dataframe tbody tr th {\n",
              "        vertical-align: top;\n",
              "    }\n",
              "\n",
              "    .dataframe thead th {\n",
              "        text-align: right;\n",
              "    }\n",
              "</style>\n",
              "<table border=\"1\" class=\"dataframe\">\n",
              "  <thead>\n",
              "    <tr style=\"text-align: right;\">\n",
              "      <th></th>\n",
              "      <th>loan_amnt</th>\n",
              "      <th>term</th>\n",
              "      <th>int_rate</th>\n",
              "      <th>installment</th>\n",
              "      <th>grade</th>\n",
              "      <th>home_ownership</th>\n",
              "      <th>annual_inc</th>\n",
              "      <th>verification_status</th>\n",
              "      <th>issue_d</th>\n",
              "      <th>loan_status</th>\n",
              "      <th>purpose</th>\n",
              "      <th>addr_state</th>\n",
              "      <th>dti</th>\n",
              "      <th>mths_since_last_delinq</th>\n",
              "      <th>mths_since_last_record</th>\n",
              "      <th>next_pymnt_d</th>\n",
              "      <th>pub_rec_bankruptcies</th>\n",
              "      <th>year</th>\n",
              "      <th>month</th>\n",
              "      <th>loan_amnt_p</th>\n",
              "      <th>annual_inc_p</th>\n",
              "    </tr>\n",
              "  </thead>\n",
              "  <tbody>\n",
              "    <tr>\n",
              "      <th>0</th>\n",
              "      <td>5000</td>\n",
              "      <td>36 months</td>\n",
              "      <td>10.7</td>\n",
              "      <td>162.9</td>\n",
              "      <td>B</td>\n",
              "      <td>RENT</td>\n",
              "      <td>24,000.0</td>\n",
              "      <td>Verified</td>\n",
              "      <td>2011-12-01</td>\n",
              "      <td>Fully Paid</td>\n",
              "      <td>credit_card</td>\n",
              "      <td>AZ</td>\n",
              "      <td>27.6</td>\n",
              "      <td>nan</td>\n",
              "      <td>nan</td>\n",
              "      <td>NaN</td>\n",
              "      <td>0.0</td>\n",
              "      <td>2011</td>\n",
              "      <td>12</td>\n",
              "      <td>Lowest (500.0 - 5000.0)</td>\n",
              "      <td>Lowest (4000.0 - 37196.16)</td>\n",
              "    </tr>\n",
              "    <tr>\n",
              "      <th>1</th>\n",
              "      <td>2500</td>\n",
              "      <td>60 months</td>\n",
              "      <td>15.3</td>\n",
              "      <td>59.8</td>\n",
              "      <td>C</td>\n",
              "      <td>RENT</td>\n",
              "      <td>30,000.0</td>\n",
              "      <td>Source Verified</td>\n",
              "      <td>2011-12-01</td>\n",
              "      <td>Charged Off</td>\n",
              "      <td>car</td>\n",
              "      <td>GA</td>\n",
              "      <td>1.0</td>\n",
              "      <td>nan</td>\n",
              "      <td>nan</td>\n",
              "      <td>NaN</td>\n",
              "      <td>0.0</td>\n",
              "      <td>2011</td>\n",
              "      <td>12</td>\n",
              "      <td>Lowest (500.0 - 5000.0)</td>\n",
              "      <td>Lowest (4000.0 - 37196.16)</td>\n",
              "    </tr>\n",
              "  </tbody>\n",
              "</table>\n",
              "</div>"
            ],
            "text/plain": [
              "   loan_amnt        term  ...              loan_amnt_p                annual_inc_p\n",
              "0       5000   36 months  ...  Lowest (500.0 - 5000.0)  Lowest (4000.0 - 37196.16)\n",
              "1       2500   60 months  ...  Lowest (500.0 - 5000.0)  Lowest (4000.0 - 37196.16)\n",
              "\n",
              "[2 rows x 21 columns]"
            ]
          },
          "metadata": {},
          "execution_count": 79
        }
      ]
    },
    {
      "cell_type": "markdown",
      "metadata": {
        "id": "XO-QJ_x7g7s1"
      },
      "source": [
        "#### Univariate of categorical variables"
      ]
    },
    {
      "cell_type": "markdown",
      "metadata": {
        "id": "pyUG3VDsIHO8"
      },
      "source": [
        "Question - 3: What is the purpose for which people take loan?"
      ]
    },
    {
      "cell_type": "code",
      "metadata": {
        "colab": {
          "base_uri": "https://localhost:8080/",
          "height": 373
        },
        "id": "TwxbXGD2kLNE",
        "outputId": "b28f8d7c-f782-45ca-eac4-8cb296278c47"
      },
      "source": [
        "# Debt consilidation has been purpose for more than 40% of loan applications \n",
        "loan.purpose.value_counts(normalize=True).plot(kind='bar')"
      ],
      "execution_count": 80,
      "outputs": [
        {
          "output_type": "execute_result",
          "data": {
            "text/plain": [
              "<matplotlib.axes._subplots.AxesSubplot at 0x7f8a0ad01c50>"
            ]
          },
          "metadata": {},
          "execution_count": 80
        },
        {
          "output_type": "display_data",
          "data": {
            "image/png": "[encoded data removed]",
            "text/plain": [
              "<Figure size 432x288 with 1 Axes>"
            ]
          },
          "metadata": {
            "needs_background": "light"
          }
        }
      ]
    },
    {
      "cell_type": "markdown",
      "metadata": {
        "id": "fNtyz8KBIUbk"
      },
      "source": [
        "Question - 4: What is the duration of the loan for which loans are taken?"
      ]
    },
    {
      "cell_type": "code",
      "metadata": {
        "scrolled": true,
        "id": "fT4zyz52jV3R",
        "colab": {
          "base_uri": "https://localhost:8080/",
          "height": 327
        },
        "outputId": "e566f680-7e65-41c6-a464-2d94964a0e3f"
      },
      "source": [
        "# 75% of the applications are given for 36months term loan\n",
        "loan['term'].value_counts(normalize=True).plot(kind='pie',figsize=(5,10), autopct=\"%.2f\")"
      ],
      "execution_count": 81,
      "outputs": [
        {
          "output_type": "execute_result",
          "data": {
            "text/plain": [
              "<matplotlib.axes._subplots.AxesSubplot at 0x7f8a0aca1350>"
            ]
          },
          "metadata": {},
          "execution_count": 81
        },
        {
          "output_type": "display_data",
          "data": {
            "image/png": "[encoded data removed]",
            "text/plain": [
              "<Figure size 360x720 with 1 Axes>"
            ]
          },
          "metadata": {}
        }
      ]
    },
    {
      "cell_type": "code",
      "metadata": {
        "colab": {
          "base_uri": "https://localhost:8080/",
          "height": 281
        },
        "id": "T0zFQZE2LdNq",
        "outputId": "4334d4d6-ce3a-4027-f56c-d558c2d18f8b"
      },
      "source": [
        "# 60% of the applications are considered for Grade - A,B and C\n",
        "loan['grade'].value_counts(normalize=True).plot(kind='bar')"
      ],
      "execution_count": 82,
      "outputs": [
        {
          "output_type": "execute_result",
          "data": {
            "text/plain": [
              "<matplotlib.axes._subplots.AxesSubplot at 0x7f8a0abeeed0>"
            ]
          },
          "metadata": {},
          "execution_count": 82
        },
        {
          "output_type": "display_data",
          "data": {
            "image/png": "[encoded data removed]",
            "text/plain": [
              "<Figure size 432x288 with 1 Axes>"
            ]
          },
          "metadata": {
            "needs_background": "light"
          }
        }
      ]
    },
    {
      "cell_type": "code",
      "metadata": {
        "id": "wpumKBJ0jV3R",
        "colab": {
          "base_uri": "https://localhost:8080/",
          "height": 289
        },
        "outputId": "a478d685-f296-4fb8-f5d6-f8ee202bcd46"
      },
      "source": [
        "# Loan applications by borrowers in each state\n",
        "loan['addr_state'].value_counts()[:10].plot(kind=\"bar\")\n",
        "# California, New York and Florida are the states where we have most of the customers"
      ],
      "execution_count": 83,
      "outputs": [
        {
          "output_type": "execute_result",
          "data": {
            "text/plain": [
              "<matplotlib.axes._subplots.AxesSubplot at 0x7f8a0ab77810>"
            ]
          },
          "metadata": {},
          "execution_count": 83
        },
        {
          "output_type": "display_data",
          "data": {
            "image/png": "[encoded data removed]",
            "text/plain": [
              "<Figure size 432x288 with 1 Axes>"
            ]
          },
          "metadata": {
            "needs_background": "light"
          }
        }
      ]
    },
    {
      "cell_type": "code",
      "metadata": {
        "id": "lrLjuDQRjV3R",
        "colab": {
          "base_uri": "https://localhost:8080/"
        },
        "outputId": "e7efbf38-e253-4ac0-a251-246ede89650a"
      },
      "source": [
        "loan['home_ownership'].value_counts()"
      ],
      "execution_count": 84,
      "outputs": [
        {
          "output_type": "execute_result",
          "data": {
            "text/plain": [
              "RENT        18480\n",
              "MORTGAGE    17021\n",
              "OWN          2975\n",
              "OTHER          98\n",
              "NONE            3\n",
              "Name: home_ownership, dtype: int64"
            ]
          },
          "metadata": {},
          "execution_count": 84
        }
      ]
    },
    {
      "cell_type": "code",
      "metadata": {
        "scrolled": true,
        "id": "ec_RG0iJjV3R",
        "colab": {
          "base_uri": "https://localhost:8080/",
          "height": 333
        },
        "outputId": "2e232eec-4249-4b88-8be2-75b776a07b47"
      },
      "source": [
        "# 48% of application are given to Borrowers with Rented houses\n",
        "# 44% of the Borrowers have houses on Mortgage\n",
        "round(100* loan['home_ownership'].value_counts(normalize=True),2).plot(kind='bar')"
      ],
      "execution_count": 85,
      "outputs": [
        {
          "output_type": "execute_result",
          "data": {
            "text/plain": [
              "<matplotlib.axes._subplots.AxesSubplot at 0x7f8a0ada8610>"
            ]
          },
          "metadata": {},
          "execution_count": 85
        },
        {
          "output_type": "display_data",
          "data": {
            "image/png": "[encoded data removed]",
            "text/plain": [
              "<Figure size 432x288 with 1 Axes>"
            ]
          },
          "metadata": {
            "needs_background": "light"
          }
        }
      ]
    },
    {
      "cell_type": "markdown",
      "metadata": {
        "id": "0ebfvtUR4DTw"
      },
      "source": [
        "More than 50% of loan applications have received in 2011\n"
      ]
    },
    {
      "cell_type": "code",
      "metadata": {
        "colab": {
          "base_uri": "https://localhost:8080/",
          "height": 299
        },
        "id": "gLBPX4Ui3vzQ",
        "outputId": "a2f85832-b0ce-40ee-d707-a504251239ca"
      },
      "source": [
        "round(100* loan['year'].value_counts(normalize=True),2).plot(kind='bar')"
      ],
      "execution_count": 86,
      "outputs": [
        {
          "output_type": "execute_result",
          "data": {
            "text/plain": [
              "<matplotlib.axes._subplots.AxesSubplot at 0x7f8a0aebe510>"
            ]
          },
          "metadata": {},
          "execution_count": 86
        },
        {
          "output_type": "display_data",
          "data": {
            "image/png": "[encoded data removed]",
            "text/plain": [
              "<Figure size 432x288 with 1 Axes>"
            ]
          },
          "metadata": {
            "needs_background": "light"
          }
        }
      ]
    },
    {
      "cell_type": "markdown",
      "metadata": {
        "id": "5XiLJXIkXial"
      },
      "source": [
        "## Bivariate Analysis"
      ]
    },
    {
      "cell_type": "code",
      "metadata": {
        "id": "kZ_gCW80_ND0"
      },
      "source": [
        "# df.isnull().sum()"
      ],
      "execution_count": 87,
      "outputs": []
    },
    {
      "cell_type": "code",
      "metadata": {
        "colab": {
          "base_uri": "https://localhost:8080/",
          "height": 415
        },
        "id": "bC5I7CsB97Wy",
        "outputId": "40893f9a-6b62-4f91-b790-61cfe1c5a86d"
      },
      "source": [
        "# Observations :\n",
        "# Below plot shows that most of them living in rented home or mortgaged their home.\n",
        "\n",
        "\n",
        "plt.figure(figsize=(10,6),facecolor='b')\n",
        "ax = sns.countplot(x=\"home_ownership\",data=df,hue='loan_status',palette='GnBu_d')\n",
        "ax.legend(bbox_to_anchor=(1, 1))\n",
        "ax.set_title('Home Ownership',fontsize=14,color='w')\n",
        "ax.set_xlabel('Home Ownership',fontsize=14,color = 'w')\n",
        "ax.set_ylabel('Loan Application Count',fontsize=14,color = 'w')      \n",
        "plt.show()"
      ],
      "execution_count": 89,
      "outputs": [
        {
          "output_type": "display_data",
          "data": {
            "image/png": "[encoded data removed]",
            "text/plain": [
              "<Figure size 720x432 with 1 Axes>"
            ]
          },
          "metadata": {}
        }
      ]
    },
    {
      "cell_type": "code",
      "metadata": {
        "colab": {
          "base_uri": "https://localhost:8080/",
          "height": 358
        },
        "id": "0vHDwgOWHqEV",
        "outputId": "b901e653-b225-4129-8fab-1fee9bdab184"
      },
      "source": [
        "plt.figure(figsize = (5,5))\n",
        "plt.title('loan amount and grade')\n",
        "sns.barplot(x='grade', y=\"loan_amnt\", data=df, estimator=np.mean,order=\"ABCDEFG\")\n",
        "plt.show()\n",
        "# Average loan amount taken by Grade- G customers is higher"
      ],
      "execution_count": 90,
      "outputs": [
        {
          "output_type": "display_data",
          "data": {
            "image/png": "[encoded data removed]",
            "text/plain": [
              "<Figure size 360x360 with 1 Axes>"
            ]
          },
          "metadata": {}
        }
      ]
    },
    {
      "cell_type": "code",
      "metadata": {
        "id": "fSvR1Oq6N8GK",
        "colab": {
          "base_uri": "https://localhost:8080/",
          "height": 586
        },
        "outputId": "64ca130f-aa84-41af-ab59-07c23b70e061"
      },
      "source": [
        "# Correlation Matrix - Quantitative Variables\n",
        "\n",
        "loan_correlation = df.corr()\n",
        "sns.set(font_scale=1.1)\n",
        "sns.clustermap(loan_correlation,annot=True,figsize=(12, 8),cmap=\"BrBG\")\n",
        "plt.show()\n",
        "# Loan amount and installment is highly correlated. That means higher loans have bigger installments as well to be paid by borrower\n",
        "# Interest rate is negatively correlated to months since last deliquency. That means when customer defaults on loan payments, interest rate increases\n",
        "# Months since last deliquency is also negatively correlated to income. Which shows lower annual income of customer is related to the reason of deliquency\n",
        "# Annual income has negative relation to debt to income ratio(DTI), Bankrupcy (pub_rec_bankruptcies). "
      ],
      "execution_count": 88,
      "outputs": [
        {
          "output_type": "display_data",
          "data": {
            "image/png": "[encoded data removed]",
            "text/plain": [
              "<Figure size 864x576 with 4 Axes>"
            ]
          },
          "metadata": {}
        }
      ]
    }
  ]
}